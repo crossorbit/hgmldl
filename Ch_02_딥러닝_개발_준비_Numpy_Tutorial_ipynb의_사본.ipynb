{
  "nbformat": 4,
  "nbformat_minor": 0,
  "metadata": {
    "colab": {
      "name": "Ch 02. 딥러닝 개발 준비_Numpy_Tutorial.ipynb의 사본",
      "provenance": [],
      "collapsed_sections": [],
      "toc_visible": true,
      "include_colab_link": true
    },
    "kernelspec": {
      "name": "python3",
      "display_name": "Python 3"
    },
    "language_info": {
      "name": "python"
    }
  },
  "cells": [
    {
      "cell_type": "markdown",
      "metadata": {
        "id": "view-in-github",
        "colab_type": "text"
      },
      "source": [
        "<a href=\"https://colab.research.google.com/github/crossorbit/hgmldl/blob/main/Ch_02_%EB%94%A5%EB%9F%AC%EB%8B%9D_%EA%B0%9C%EB%B0%9C_%EC%A4%80%EB%B9%84_Numpy_Tutorial_ipynb%EC%9D%98_%EC%82%AC%EB%B3%B8.ipynb\" target=\"_parent\"><img src=\"https://colab.research.google.com/assets/colab-badge.svg\" alt=\"Open In Colab\"/></a>"
      ]
    },
    {
      "cell_type": "markdown",
      "metadata": {
        "id": "xrZqbnxIGa1R"
      },
      "source": [
        "# Numpy\n",
        "\n",
        "Numpy는 Numerical Python의 줄임말로, 파이썬에서 산술 계산을 위한 가장 중요한 패키지 중 하나입니다. 과학 계산을 위한 대부분의 패키지는 Numpy의 배열 객체를 데이터 교환을 위한 공통 언어처럼 사용합니다."
      ]
    },
    {
      "cell_type": "markdown",
      "metadata": {
        "id": "K2mZO-JUG84d"
      },
      "source": [
        "### Numpy 라이브러리 import"
      ]
    },
    {
      "cell_type": "code",
      "metadata": {
        "id": "08IdEOt7GG_m"
      },
      "source": [
        "import numpy as np"
      ],
      "execution_count": 1,
      "outputs": []
    },
    {
      "cell_type": "markdown",
      "metadata": {
        "id": "s6CkuLG1HMrB"
      },
      "source": [
        "### Numpy ndarray\n",
        "Numpy의 핵심 기능 중 하나는 ndarray라고 하는 N차원의 배열 객체인데 파이썬에서 할 수 있는 대규모 데이터 집합을 담을 수 있는 빠르고 유연한 자료구조입니다."
      ]
    },
    {
      "cell_type": "code",
      "metadata": {
        "id": "TrK76D5zHM6B",
        "colab": {
          "base_uri": "https://localhost:8080/"
        },
        "outputId": "9fd06f1b-10d9-4933-d57f-02fe88f97946"
      },
      "source": [
        "a = np.array([1, 2, 3])\n",
        "print(a, type(a))"
      ],
      "execution_count": 2,
      "outputs": [
        {
          "output_type": "stream",
          "name": "stdout",
          "text": [
            "[1 2 3] <class 'numpy.ndarray'>\n"
          ]
        }
      ]
    },
    {
      "cell_type": "markdown",
      "metadata": {
        "id": "7afzYZAUHFt7"
      },
      "source": [
        "### List와 비교\n",
        "List는 하나의 배열 안에 숫자,문자 섞어서 생성가능하나 Numpy는 동일한 타입만 가능함\n"
      ]
    },
    {
      "cell_type": "code",
      "metadata": {
        "id": "KHcKRlrsHAzx",
        "colab": {
          "base_uri": "https://localhost:8080/"
        },
        "outputId": "510a90f2-9f2e-4925-e412-217757f8929e"
      },
      "source": [
        "L = [1, 2, 3]\n",
        "A = np.array([1, 2, 3])\n",
        "print(L)\n",
        "print(A)"
      ],
      "execution_count": 3,
      "outputs": [
        {
          "output_type": "stream",
          "name": "stdout",
          "text": [
            "[1, 2, 3]\n",
            "[1 2 3]\n"
          ]
        }
      ]
    },
    {
      "cell_type": "code",
      "metadata": {
        "id": "XCul7Sme489Z",
        "colab": {
          "base_uri": "https://localhost:8080/"
        },
        "outputId": "d1734296-1d54-4dc7-830b-65b0f9b637e7"
      },
      "source": [
        "A"
      ],
      "execution_count": 4,
      "outputs": [
        {
          "output_type": "execute_result",
          "data": {
            "text/plain": [
              "array([1, 2, 3])"
            ]
          },
          "metadata": {},
          "execution_count": 4
        }
      ]
    },
    {
      "cell_type": "code",
      "metadata": {
        "id": "uWAr1LeQJXFf",
        "colab": {
          "base_uri": "https://localhost:8080/"
        },
        "outputId": "6298dc03-6c68-403a-8dcd-f2b6c06185e0"
      },
      "source": [
        "for item in L:\n",
        "  print(item)"
      ],
      "execution_count": 5,
      "outputs": [
        {
          "output_type": "stream",
          "name": "stdout",
          "text": [
            "1\n",
            "2\n",
            "3\n"
          ]
        }
      ]
    },
    {
      "cell_type": "code",
      "metadata": {
        "id": "bvQHbphRJerJ",
        "colab": {
          "base_uri": "https://localhost:8080/"
        },
        "outputId": "9ded39bb-054d-4960-af17-1395591146a2"
      },
      "source": [
        "for item in A:\n",
        "  print(item)"
      ],
      "execution_count": 6,
      "outputs": [
        {
          "output_type": "stream",
          "name": "stdout",
          "text": [
            "1\n",
            "2\n",
            "3\n"
          ]
        }
      ]
    },
    {
      "cell_type": "code",
      "metadata": {
        "id": "LtmE2YTLJgRD",
        "colab": {
          "base_uri": "https://localhost:8080/"
        },
        "outputId": "223254af-356e-484a-dd85-ce4d39720e8c"
      },
      "source": [
        "L.append(4)\n",
        "print(L)"
      ],
      "execution_count": 7,
      "outputs": [
        {
          "output_type": "stream",
          "name": "stdout",
          "text": [
            "[1, 2, 3, 4]\n"
          ]
        }
      ]
    },
    {
      "cell_type": "code",
      "metadata": {
        "id": "PbPqKqf3JjKH",
        "colab": {
          "base_uri": "https://localhost:8080/",
          "height": 184
        },
        "outputId": "91621ba2-696c-4a52-ac17-768151ba76b7"
      },
      "source": [
        "A = A.append(4)\n",
        "print(A)"
      ],
      "execution_count": 8,
      "outputs": [
        {
          "output_type": "error",
          "ename": "AttributeError",
          "evalue": "ignored",
          "traceback": [
            "\u001b[0;31m---------------------------------------------------------------------------\u001b[0m",
            "\u001b[0;31mAttributeError\u001b[0m                            Traceback (most recent call last)",
            "\u001b[0;32m<ipython-input-8-c8c98dce37d6>\u001b[0m in \u001b[0;36m<module>\u001b[0;34m()\u001b[0m\n\u001b[0;32m----> 1\u001b[0;31m \u001b[0mA\u001b[0m \u001b[0;34m=\u001b[0m \u001b[0mA\u001b[0m\u001b[0;34m.\u001b[0m\u001b[0mappend\u001b[0m\u001b[0;34m(\u001b[0m\u001b[0;36m4\u001b[0m\u001b[0;34m)\u001b[0m\u001b[0;34m\u001b[0m\u001b[0;34m\u001b[0m\u001b[0m\n\u001b[0m\u001b[1;32m      2\u001b[0m \u001b[0mprint\u001b[0m\u001b[0;34m(\u001b[0m\u001b[0mA\u001b[0m\u001b[0;34m)\u001b[0m\u001b[0;34m\u001b[0m\u001b[0;34m\u001b[0m\u001b[0m\n",
            "\u001b[0;31mAttributeError\u001b[0m: 'numpy.ndarray' object has no attribute 'append'"
          ]
        }
      ]
    },
    {
      "cell_type": "code",
      "metadata": {
        "id": "6AmFS9zFJk8M",
        "colab": {
          "base_uri": "https://localhost:8080/"
        },
        "outputId": "86157e40-730d-430a-d8dc-afc97ff161d3"
      },
      "source": [
        "A = np.append(A, 4)\n",
        "print(A)"
      ],
      "execution_count": 9,
      "outputs": [
        {
          "output_type": "stream",
          "name": "stdout",
          "text": [
            "[1 2 3 4]\n"
          ]
        }
      ]
    },
    {
      "cell_type": "code",
      "metadata": {
        "id": "EFKbWtELJoHL",
        "colab": {
          "base_uri": "https://localhost:8080/"
        },
        "outputId": "c157d28e-1e21-4aee-ea05-1a52c4dc96f1"
      },
      "source": [
        "L = L + [5]\n",
        "print(L)"
      ],
      "execution_count": 10,
      "outputs": [
        {
          "output_type": "stream",
          "name": "stdout",
          "text": [
            "[1, 2, 3, 4, 5]\n"
          ]
        }
      ]
    },
    {
      "cell_type": "code",
      "metadata": {
        "id": "aNq_XYolJxTB",
        "colab": {
          "base_uri": "https://localhost:8080/"
        },
        "outputId": "5f48e985-46ac-4230-de1c-54961c85cfff"
      },
      "source": [
        "A = A + np.array([5])\n",
        "print(A)"
      ],
      "execution_count": 11,
      "outputs": [
        {
          "output_type": "stream",
          "name": "stdout",
          "text": [
            "[6 7 8 9]\n"
          ]
        }
      ]
    },
    {
      "cell_type": "code",
      "metadata": {
        "id": "998MZlhXJ2aH",
        "colab": {
          "base_uri": "https://localhost:8080/"
        },
        "outputId": "f8c9b74e-3900-45a8-f75b-028ff7c3754c"
      },
      "source": [
        "# list의 모든 원소를 2배로 만들기\n",
        "L = [1, 2, 3]\n",
        "L2 = []\n",
        "for item in L:\n",
        "  L2.append(item*2)\n",
        "print(L2)"
      ],
      "execution_count": 12,
      "outputs": [
        {
          "output_type": "stream",
          "name": "stdout",
          "text": [
            "[2, 4, 6]\n"
          ]
        }
      ]
    },
    {
      "cell_type": "code",
      "metadata": {
        "id": "yEDkQDGILdMh",
        "colab": {
          "base_uri": "https://localhost:8080/"
        },
        "outputId": "733675d0-e92d-40e2-e022-07ec0f0b4caf"
      },
      "source": [
        "# ndarray의 모든 원소 2배로 만들기\n",
        "A = np.array(L)\n",
        "A2 = A*2\n",
        "print(A2)"
      ],
      "execution_count": 13,
      "outputs": [
        {
          "output_type": "stream",
          "name": "stdout",
          "text": [
            "[2 4 6]\n"
          ]
        }
      ]
    },
    {
      "cell_type": "code",
      "metadata": {
        "id": "bFmOP9giLjAj",
        "colab": {
          "base_uri": "https://localhost:8080/"
        },
        "outputId": "c99d3361-37dc-4c81-f231-4e68f699f232"
      },
      "source": [
        "L * 2"
      ],
      "execution_count": 18,
      "outputs": [
        {
          "output_type": "execute_result",
          "data": {
            "text/plain": [
              "[1, 2, 3, 1, 2, 3]"
            ]
          },
          "metadata": {},
          "execution_count": 18
        }
      ]
    },
    {
      "cell_type": "markdown",
      "metadata": {
        "id": "4ZrXOTkQj0AJ"
      },
      "source": [
        "### 배열\n",
        "numpy 배열은 모두 같은 유형의 값이며 음수가 아닌 정수의 튜플로 인덱싱됩니다. 차원의 수는 배열의 랭크입니다. 배열의 shape은 각 차원별 배열 크기의 튜플입니다.\n",
        "중첩 된 파이썬 리스트로부터 numpy 배열을 초기화 할 수 있고 대괄호를 사용하여 요소에 접근 할 수 있습니다. "
      ]
    },
    {
      "cell_type": "markdown",
      "metadata": {
        "id": "ZkTYBiPdLRWk"
      },
      "source": [
        "#### 배열 생성하기"
      ]
    },
    {
      "cell_type": "code",
      "metadata": {
        "id": "bFAPp13PMIKJ",
        "colab": {
          "base_uri": "https://localhost:8080/"
        },
        "outputId": "14484b89-fd79-4564-db49-bae925b11a73"
      },
      "source": [
        "a = np.array([1, 2, 3])\n",
        "print(a)\n",
        "print(type(a), a.ndim, a.shape, a.dtype)\n",
        "\n",
        "b = np.array([4, 5, 6])\n",
        "print(b)\n",
        "print(type(b), b.ndim, b.shape, b.dtype)"
      ],
      "execution_count": 16,
      "outputs": [
        {
          "output_type": "stream",
          "name": "stdout",
          "text": [
            "[1 2 3]\n",
            "<class 'numpy.ndarray'> 1 (3,) int64\n",
            "[4 5 6]\n",
            "<class 'numpy.ndarray'> 1 (3,) int64\n"
          ]
        }
      ]
    },
    {
      "cell_type": "code",
      "metadata": {
        "id": "6omlJVa2KxQa",
        "colab": {
          "base_uri": "https://localhost:8080/"
        },
        "outputId": "3228eba7-cc30-4081-e056-4d5e85c626dd"
      },
      "source": [
        "b = np.asarray(a) #asarray 로 바꾸면 a 를 같은 곳을 바라보고 있어서.  b[0] 적용 시 같이 바뀜. \n",
        "print(b)"
      ],
      "execution_count": 17,
      "outputs": [
        {
          "output_type": "stream",
          "name": "stdout",
          "text": [
            "[1 2 3]\n"
          ]
        }
      ]
    },
    {
      "cell_type": "code",
      "metadata": {
        "id": "6180mdASK9xB",
        "colab": {
          "base_uri": "https://localhost:8080/"
        },
        "outputId": "c05c7c5b-5ee4-40f8-cd45-278ee3e889d4"
      },
      "source": [
        "b[0] = 9\n",
        "print(a)\n",
        "print(b)"
      ],
      "execution_count": 19,
      "outputs": [
        {
          "output_type": "stream",
          "name": "stdout",
          "text": [
            "[9 2 3]\n",
            "[9 2 3]\n"
          ]
        }
      ]
    },
    {
      "cell_type": "code",
      "metadata": {
        "id": "VaoHYHgZK-eZ",
        "colab": {
          "base_uri": "https://localhost:8080/"
        },
        "outputId": "f73c554a-d809-4f51-9e3c-2080482bae9b"
      },
      "source": [
        "c = np.array(a) # 새로운 카피본을 만들어냄\n",
        "print(c)"
      ],
      "execution_count": 20,
      "outputs": [
        {
          "output_type": "stream",
          "name": "stdout",
          "text": [
            "[9 2 3]\n"
          ]
        }
      ]
    },
    {
      "cell_type": "code",
      "metadata": {
        "id": "vaVXhH-5Ln2Q",
        "colab": {
          "base_uri": "https://localhost:8080/"
        },
        "outputId": "43a32380-5579-43db-fc49-38424caf5677"
      },
      "source": [
        "c[0] = 1\n",
        "print(a)\n",
        "print(b)\n",
        "print(c)"
      ],
      "execution_count": 21,
      "outputs": [
        {
          "output_type": "stream",
          "name": "stdout",
          "text": [
            "[9 2 3]\n",
            "[9 2 3]\n",
            "[1 2 3]\n"
          ]
        }
      ]
    },
    {
      "cell_type": "code",
      "metadata": {
        "id": "e93HPDP2Lp-w",
        "colab": {
          "base_uri": "https://localhost:8080/"
        },
        "outputId": "6dccbefa-b958-47d4-d29a-432e96a19334"
      },
      "source": [
        "a = np.zeros((3,4))\n",
        "print(a)\n",
        "print(a.dtype)"
      ],
      "execution_count": 23,
      "outputs": [
        {
          "output_type": "stream",
          "name": "stdout",
          "text": [
            "[[0. 0. 0. 0.]\n",
            " [0. 0. 0. 0.]\n",
            " [0. 0. 0. 0.]]\n",
            "float64\n"
          ]
        }
      ]
    },
    {
      "cell_type": "code",
      "metadata": {
        "id": "DPJTPpCpNxFP"
      },
      "source": [
        "b = np.ones((5,2))\n",
        "print(b)"
      ],
      "execution_count": null,
      "outputs": []
    },
    {
      "cell_type": "code",
      "metadata": {
        "id": "Va3vUmrkODOG",
        "colab": {
          "base_uri": "https://localhost:8080/"
        },
        "outputId": "f2517fc7-3e7e-4587-e56c-e53e8b7ea908"
      },
      "source": [
        "c = np.full((2,3), 4)\n",
        "print(c)"
      ],
      "execution_count": 24,
      "outputs": [
        {
          "output_type": "stream",
          "name": "stdout",
          "text": [
            "[[4 4 4]\n",
            " [4 4 4]]\n"
          ]
        }
      ]
    },
    {
      "cell_type": "code",
      "metadata": {
        "id": "_JDgvYhmOHa2",
        "colab": {
          "base_uri": "https://localhost:8080/"
        },
        "outputId": "9ec15982-7cba-48f4-edd7-da9225ab8eee"
      },
      "source": [
        "d = np.empty((3,3))\n",
        "print(d)"
      ],
      "execution_count": 25,
      "outputs": [
        {
          "output_type": "stream",
          "name": "stdout",
          "text": [
            "[[4.65632270e-310 2.42092166e-322 2.12199579e-314]\n",
            " [3.44620186e-085 4.34900767e+199 1.87422380e+261]\n",
            " [4.56782417e-085 9.30537465e+199 7.68290848e+170]]\n"
          ]
        }
      ]
    },
    {
      "cell_type": "code",
      "metadata": {
        "id": "TlZcwMUPOWQe",
        "colab": {
          "base_uri": "https://localhost:8080/"
        },
        "outputId": "da253b6d-687a-435f-ef49-b4f5863ebf4f"
      },
      "source": [
        "e = np.zeros_like(a)\n",
        "f = np.ones_like(a)\n",
        "g = np.full_like(a, 2)\n",
        "h = np.empty_like(a)\n",
        "print(e)\n",
        "print(f)\n",
        "print(g)\n",
        "print(h)"
      ],
      "execution_count": 26,
      "outputs": [
        {
          "output_type": "stream",
          "name": "stdout",
          "text": [
            "[[0. 0. 0. 0.]\n",
            " [0. 0. 0. 0.]\n",
            " [0. 0. 0. 0.]]\n",
            "[[1. 1. 1. 1.]\n",
            " [1. 1. 1. 1.]\n",
            " [1. 1. 1. 1.]]\n",
            "[[2. 2. 2. 2.]\n",
            " [2. 2. 2. 2.]\n",
            " [2. 2. 2. 2.]]\n",
            "[[4.65632273e-310 0.00000000e+000 7.92975362e-321 4.65632216e-310]\n",
            " [6.90075545e-310 4.65632216e-310 6.90075545e-310 6.90075545e-310]\n",
            " [0.00000000e+000 2.96439388e-323 2.12199579e-314 5.43472210e-323]]\n"
          ]
        }
      ]
    },
    {
      "cell_type": "code",
      "metadata": {
        "id": "jyELiZmyOjt-",
        "colab": {
          "base_uri": "https://localhost:8080/"
        },
        "outputId": "e55f1fdb-b349-41a9-fc6a-bcb786e6b9f8"
      },
      "source": [
        "i = np.eye(3) # 3x3 행렬 만드는데 대각선 방향 1로 채우기. np.eye(3, k=1) 변수 추가 시 k=1 두번째 열부터 1 채우기\n",
        "k = np.eye(3, k=1) # 3x3 행렬 만드는데 대각선 방향 1로 채우기. np.eye(3, k=1) 변수 추가 시 k=1 두번째 열부터 1 채우기\n",
        "j = np.identity(3) # 3x3 행렬 만드는데 대각선 방향 1로 채우기. 항등행렬\n",
        "print(i)\n",
        "print(k)\n",
        "print(j)"
      ],
      "execution_count": 28,
      "outputs": [
        {
          "output_type": "stream",
          "name": "stdout",
          "text": [
            "[[1. 0. 0.]\n",
            " [0. 1. 0.]\n",
            " [0. 0. 1.]]\n",
            "[[0. 1. 0.]\n",
            " [0. 0. 1.]\n",
            " [0. 0. 0.]]\n",
            "[[1. 0. 0.]\n",
            " [0. 1. 0.]\n",
            " [0. 0. 1.]]\n"
          ]
        }
      ]
    },
    {
      "cell_type": "code",
      "metadata": {
        "id": "_xJn7a9EaFyK",
        "colab": {
          "base_uri": "https://localhost:8080/"
        },
        "outputId": "397e9900-d3d7-4ca7-e3bd-a1fe948527f1"
      },
      "source": [
        "k = np.arange(10) # 0~9 까지 10개 숫자\n",
        "k2 = np.arange(1,10) # 1~10까지\n",
        "k3 = np.arange(10, 0, -1) # 10~1 까지 10개 숫자(역순)\n",
        "print(k)\n",
        "print(k2)\n",
        "print(k3)"
      ],
      "execution_count": 31,
      "outputs": [
        {
          "output_type": "stream",
          "name": "stdout",
          "text": [
            "[0 1 2 3 4 5 6 7 8 9]\n",
            "[1 2 3 4 5 6 7 8 9]\n",
            "[10  9  8  7  6  5  4  3  2  1]\n"
          ]
        }
      ]
    },
    {
      "cell_type": "code",
      "metadata": {
        "id": "1f3AksVDQhZ_",
        "colab": {
          "base_uri": "https://localhost:8080/"
        },
        "outputId": "d1488e7f-ae6e-4b0c-b58e-bc847f4a21ba"
      },
      "source": [
        "# uniform distribution\n",
        "l = np.random.rand(2,2) # rand : 0~1 사이를 똑같은 확률로 뽑아줌\n",
        "print(l)"
      ],
      "execution_count": 32,
      "outputs": [
        {
          "output_type": "stream",
          "name": "stdout",
          "text": [
            "[[0.34654064 0.83816349]\n",
            " [0.89977063 0.23749956]]\n"
          ]
        }
      ]
    },
    {
      "cell_type": "code",
      "metadata": {
        "id": "pk2IMzjQQ2bY",
        "colab": {
          "base_uri": "https://localhost:8080/"
        },
        "outputId": "3079facd-b787-4b8c-9cf4-efff2c0d7dd0"
      },
      "source": [
        "# normal distribution\n",
        "m = np.random.randn(2,2) # randn : 표준 정규 분포에 따라 뽑아줌\n",
        "print(m)"
      ],
      "execution_count": 33,
      "outputs": [
        {
          "output_type": "stream",
          "name": "stdout",
          "text": [
            "[[-1.11679561  0.7660336 ]\n",
            " [ 1.57583395 -0.12754094]]\n"
          ]
        }
      ]
    },
    {
      "cell_type": "markdown",
      "metadata": {
        "id": "5yEqTzrWPr3p"
      },
      "source": [
        "#### 배열의 dtype"
      ]
    },
    {
      "cell_type": "code",
      "metadata": {
        "id": "E85y5Rw0O9h-",
        "colab": {
          "base_uri": "https://localhost:8080/"
        },
        "outputId": "8e81327e-2e42-45ef-aafe-4fdfbcecb2d0"
      },
      "source": [
        " a = np.array([1, 2, 3])\n",
        " b = np.array([1, 2, 3], dtype=np.float64)\n",
        " c = np.array([1, 2, 3], dtype=np.int32)\n",
        "\n",
        " print(a.dtype, b.dtype, c.dtype)"
      ],
      "execution_count": 34,
      "outputs": [
        {
          "output_type": "stream",
          "name": "stdout",
          "text": [
            "int64 float64 int32\n"
          ]
        }
      ]
    },
    {
      "cell_type": "code",
      "metadata": {
        "id": "TAp7Un4VXIxf",
        "colab": {
          "base_uri": "https://localhost:8080/"
        },
        "outputId": "bff195ab-8273-4e14-a460-c24491556cf8"
      },
      "source": [
        "d = np.array([1, 2, 3], dtype='i1')\n",
        "e = np.array([1, 2, 3], dtype='i2')\n",
        "f = np.array([1, 2, 3], dtype='i4')\n",
        "g = np.array([1, 2, 3], dtype='i8')\n",
        "\n",
        "print(d.dtype, e.dtype, f.dtype, g.dtype)"
      ],
      "execution_count": 35,
      "outputs": [
        {
          "output_type": "stream",
          "name": "stdout",
          "text": [
            "int8 int16 int32 int64\n"
          ]
        }
      ]
    },
    {
      "cell_type": "code",
      "metadata": {
        "id": "1xRPAfA_XRWh",
        "colab": {
          "base_uri": "https://localhost:8080/"
        },
        "outputId": "62e883fa-59d9-42c5-cec6-b84e0c0863b1"
      },
      "source": [
        "d = np.array([1, 2, 3], dtype='u1')\n",
        "e = np.array([1, 2, 3], dtype='u2')\n",
        "f = np.array([1, 2, 3], dtype='u4')\n",
        "g = np.array([1, 2, 3], dtype='u8')\n",
        "\n",
        "print(d.dtype, e.dtype, f.dtype, g.dtype)"
      ],
      "execution_count": 36,
      "outputs": [
        {
          "output_type": "stream",
          "name": "stdout",
          "text": [
            "uint8 uint16 uint32 uint64\n"
          ]
        }
      ]
    },
    {
      "cell_type": "code",
      "metadata": {
        "id": "nCGXv8fcXtJQ",
        "colab": {
          "base_uri": "https://localhost:8080/"
        },
        "outputId": "736cedf7-6f51-4a1c-eaa8-19673228dd6a"
      },
      "source": [
        "h = np.array([1, 2, 3], dtype='f2')\n",
        "i = np.array([1, 2, 3], dtype='f4')\n",
        "j = np.array([1, 2, 3], dtype='f8')\n",
        "k = np.array([1, 2, 3], dtype='f16')\n",
        "\n",
        "print(h.dtype, i.dtype, j.dtype, k.dtype)"
      ],
      "execution_count": 37,
      "outputs": [
        {
          "output_type": "stream",
          "name": "stdout",
          "text": [
            "float16 float32 float64 float128\n"
          ]
        }
      ]
    },
    {
      "cell_type": "code",
      "metadata": {
        "id": "6DCfYA1jX754"
      },
      "source": [
        "# h = np.array([1, 2, 3], dtype='f2')\n",
        "i = np.array([1, 2, 3], dtype='f')\n",
        "j = np.array([1, 2, 3], dtype='d')\n",
        "k = np.array([1, 2, 3], dtype='g')\n",
        "\n",
        "print(h.dtype, i.dtype, j.dtype, k.dtype)"
      ],
      "execution_count": null,
      "outputs": []
    },
    {
      "cell_type": "code",
      "metadata": {
        "id": "shEeFHUUYF5I",
        "colab": {
          "base_uri": "https://localhost:8080/"
        },
        "outputId": "83607482-5625-441a-f558-20f066528ca6"
      },
      "source": [
        "i = i.astype(np.int32) # astype : 타입 변경\n",
        "print(i.dtype)"
      ],
      "execution_count": 39,
      "outputs": [
        {
          "output_type": "stream",
          "name": "stdout",
          "text": [
            "int32\n"
          ]
        }
      ]
    },
    {
      "cell_type": "code",
      "metadata": {
        "id": "G9pISDPSYsIg",
        "colab": {
          "base_uri": "https://localhost:8080/"
        },
        "outputId": "06eb74ff-1f63-4e0c-8f2b-ae5e1a0d15ee"
      },
      "source": [
        "j = j.astype(i.dtype) # i 의 dtype 으로 바꾸기\n",
        "print(j.dtype)"
      ],
      "execution_count": 40,
      "outputs": [
        {
          "output_type": "stream",
          "name": "stdout",
          "text": [
            "int32\n"
          ]
        }
      ]
    },
    {
      "cell_type": "markdown",
      "metadata": {
        "id": "llB7zWtXZyL6"
      },
      "source": [
        "### 배열 indexing(색인)과 slicing(슬라이싱)\n",
        "\n"
      ]
    },
    {
      "cell_type": "markdown",
      "metadata": {
        "id": "wOQvW4eQbvwB"
      },
      "source": [
        "#### indexing, slicing 기본"
      ]
    },
    {
      "cell_type": "code",
      "metadata": {
        "id": "Q3uonHWyYtQQ",
        "colab": {
          "base_uri": "https://localhost:8080/"
        },
        "outputId": "22f48c79-e433-44fa-8488-616d51fa958f"
      },
      "source": [
        "a = np.arange(10)\n",
        "print(a)"
      ],
      "execution_count": 41,
      "outputs": [
        {
          "output_type": "stream",
          "name": "stdout",
          "text": [
            "[0 1 2 3 4 5 6 7 8 9]\n"
          ]
        }
      ]
    },
    {
      "cell_type": "code",
      "metadata": {
        "id": "sfqg_xKlW5i6",
        "colab": {
          "base_uri": "https://localhost:8080/"
        },
        "outputId": "80f8f921-b689-47b7-f73e-aa953c0e1728"
      },
      "source": [
        "# indexing\n",
        "print(a[5])"
      ],
      "execution_count": 42,
      "outputs": [
        {
          "output_type": "stream",
          "name": "stdout",
          "text": [
            "5\n"
          ]
        }
      ]
    },
    {
      "cell_type": "code",
      "metadata": {
        "id": "4XqCLsBkW8wC",
        "colab": {
          "base_uri": "https://localhost:8080/"
        },
        "outputId": "4906c489-f450-499b-d19d-a32e03c23993"
      },
      "source": [
        "# slicing\n",
        "print(a[5:8]) # 5,6,7번째"
      ],
      "execution_count": 43,
      "outputs": [
        {
          "output_type": "stream",
          "name": "stdout",
          "text": [
            "[5 6 7]\n"
          ]
        }
      ]
    },
    {
      "cell_type": "code",
      "metadata": {
        "id": "gyz3nqnCY0t8",
        "colab": {
          "base_uri": "https://localhost:8080/"
        },
        "outputId": "a1894554-84b5-4b4f-9d81-63be931f731e"
      },
      "source": [
        "print(a[-1]) # 맨 마지막"
      ],
      "execution_count": 44,
      "outputs": [
        {
          "output_type": "stream",
          "name": "stdout",
          "text": [
            "9\n"
          ]
        }
      ]
    },
    {
      "cell_type": "code",
      "metadata": {
        "id": "zbFK8JxTW-pj",
        "colab": {
          "base_uri": "https://localhost:8080/"
        },
        "outputId": "39345d84-cf8d-466a-bed9-02aa4f9e62e9"
      },
      "source": [
        "print(a[7:-1]) # 7에서 마지막 전까지."
      ],
      "execution_count": 45,
      "outputs": [
        {
          "output_type": "stream",
          "name": "stdout",
          "text": [
            "[7 8]\n"
          ]
        }
      ]
    },
    {
      "cell_type": "code",
      "metadata": {
        "id": "lWsJ9s7wXHGR",
        "colab": {
          "base_uri": "https://localhost:8080/"
        },
        "outputId": "53c3677c-ee84-4575-bb8a-93b04947e83a"
      },
      "source": [
        "a[5:8] = 10\n",
        "print(a)"
      ],
      "execution_count": 46,
      "outputs": [
        {
          "output_type": "stream",
          "name": "stdout",
          "text": [
            "[ 0  1  2  3  4 10 10 10  8  9]\n"
          ]
        }
      ]
    },
    {
      "cell_type": "markdown",
      "metadata": {
        "id": "6EdXvAkKXXZN"
      },
      "source": [
        "#### indexing과 slicing의 차이\n",
        "indexing을 사용하면 항상 랭크(차원)가 감소합니다. \n",
        " - 인덱싱 하기전에는 [ 5 ] 1차원 이였는데, 인덱싱 후 5 로 0차원으로 바뀜.\n",
        "  \n",
        "반면에 slicing을 사용하면 차원이 유지됩니다."
      ]
    },
    {
      "cell_type": "code",
      "metadata": {
        "id": "N7b-gazwXMq5",
        "colab": {
          "base_uri": "https://localhost:8080/"
        },
        "outputId": "be48cf69-0b02-4552-aeaf-4820854038af"
      },
      "source": [
        "b = np.arange(1, 13)\n",
        "# b = b.reshape(3, 4)\n",
        "print(b)\n",
        "print(b.shape) # 차원(랭크)\n",
        "print(b.ndim) "
      ],
      "execution_count": 47,
      "outputs": [
        {
          "output_type": "stream",
          "name": "stdout",
          "text": [
            "[ 1  2  3  4  5  6  7  8  9 10 11 12]\n",
            "(12,)\n",
            "1\n"
          ]
        }
      ]
    },
    {
      "cell_type": "code",
      "metadata": {
        "id": "lcjUe4erXnF4",
        "colab": {
          "base_uri": "https://localhost:8080/"
        },
        "outputId": "a56b1252-a2e8-4ef2-b14e-5eee7c276aaf"
      },
      "source": [
        "indexing = b[1]\n",
        "slicing = b[1:2]\n",
        "print(indexing, indexing.shape, indexing.ndim) # shape : 0차\n",
        "print(slicing, slicing.shape, slicing.ndim) # shape : 1차"
      ],
      "execution_count": 49,
      "outputs": [
        {
          "output_type": "stream",
          "name": "stdout",
          "text": [
            "2 () 0\n",
            "[2] (1,) 1\n"
          ]
        }
      ]
    },
    {
      "cell_type": "markdown",
      "metadata": {
        "id": "zgem_w-8YS1f"
      },
      "source": [
        "이것은 indexing과 slicing을 함께 사용할 때도 마찬가지입니다. indexing의 개수만큼 랭크는 감소합니다."
      ]
    },
    {
      "cell_type": "code",
      "metadata": {
        "id": "8Jm49XAMX5ua",
        "colab": {
          "base_uri": "https://localhost:8080/"
        },
        "outputId": "5a2fe628-9f39-4d62-df7f-347ded5b4763"
      },
      "source": [
        "b = b.reshape(3, 4)\n",
        "print(b)\n",
        "print(b.shape)\n",
        "print(b.ndim)"
      ],
      "execution_count": 50,
      "outputs": [
        {
          "output_type": "stream",
          "name": "stdout",
          "text": [
            "[[ 1  2  3  4]\n",
            " [ 5  6  7  8]\n",
            " [ 9 10 11 12]]\n",
            "(3, 4)\n",
            "2\n"
          ]
        }
      ]
    },
    {
      "cell_type": "code",
      "metadata": {
        "id": "47rIm6HlYgdp",
        "colab": {
          "base_uri": "https://localhost:8080/"
        },
        "outputId": "c5367027-2581-478c-c418-f8887882d196"
      },
      "source": [
        "row_r1 = b[1, :]\n",
        "row_r2 = b[1:2, :]\n",
        "print(row_r1, row_r1.shape, row_r1.ndim)\n",
        "print(row_r2, row_r2.shape, row_r2.ndim)"
      ],
      "execution_count": 51,
      "outputs": [
        {
          "output_type": "stream",
          "name": "stdout",
          "text": [
            "[5 6 7 8] (4,) 1\n",
            "[[5 6 7 8]] (1, 4) 2\n"
          ]
        }
      ]
    },
    {
      "cell_type": "markdown",
      "metadata": {
        "id": "nXii8xZ7a-vk"
      },
      "source": [
        "#### slicing examples"
      ]
    },
    {
      "cell_type": "code",
      "metadata": {
        "id": "B3jJVaXIYu7Y",
        "colab": {
          "base_uri": "https://localhost:8080/"
        },
        "outputId": "26d402d5-bbc8-49ed-b8cb-9f3fde36d0da"
      },
      "source": [
        "c = np.arange(24).reshape(2,3,4)\n",
        "print(c)\n",
        "print(c.shape)"
      ],
      "execution_count": 52,
      "outputs": [
        {
          "output_type": "stream",
          "name": "stdout",
          "text": [
            "[[[ 0  1  2  3]\n",
            "  [ 4  5  6  7]\n",
            "  [ 8  9 10 11]]\n",
            "\n",
            " [[12 13 14 15]\n",
            "  [16 17 18 19]\n",
            "  [20 21 22 23]]]\n",
            "(2, 3, 4)\n"
          ]
        }
      ]
    },
    {
      "cell_type": "code",
      "metadata": {
        "id": "gOFBAXxdZiO2",
        "colab": {
          "base_uri": "https://localhost:8080/"
        },
        "outputId": "461a66cf-1420-4b78-c2c0-5ea06f7129fa"
      },
      "source": [
        "print(c[:,:,:1])\n",
        "print(c[...,:1])"
      ],
      "execution_count": 53,
      "outputs": [
        {
          "output_type": "stream",
          "name": "stdout",
          "text": [
            "[[[ 0]\n",
            "  [ 4]\n",
            "  [ 8]]\n",
            "\n",
            " [[12]\n",
            "  [16]\n",
            "  [20]]]\n",
            "[[[ 0]\n",
            "  [ 4]\n",
            "  [ 8]]\n",
            "\n",
            " [[12]\n",
            "  [16]\n",
            "  [20]]]\n"
          ]
        }
      ]
    },
    {
      "cell_type": "code",
      "metadata": {
        "id": "1A4UeH8gbEYd",
        "colab": {
          "base_uri": "https://localhost:8080/"
        },
        "outputId": "a2dfe6e1-8778-437d-d23f-98623dede07d"
      },
      "source": [
        "print(c[0:1])\n",
        "print(c[0::-1])"
      ],
      "execution_count": 54,
      "outputs": [
        {
          "output_type": "stream",
          "name": "stdout",
          "text": [
            "[[[ 0  1  2  3]\n",
            "  [ 4  5  6  7]\n",
            "  [ 8  9 10 11]]]\n",
            "[[[ 0  1  2  3]\n",
            "  [ 4  5  6  7]\n",
            "  [ 8  9 10 11]]]\n"
          ]
        }
      ]
    },
    {
      "cell_type": "markdown",
      "metadata": {
        "id": "01DW6grybgcz"
      },
      "source": [
        "#### boolean indexing"
      ]
    },
    {
      "cell_type": "code",
      "metadata": {
        "id": "W92eQXCWbMK_",
        "colab": {
          "base_uri": "https://localhost:8080/"
        },
        "outputId": "87fc5746-3de7-42a3-f6bc-d7db8109ee8b"
      },
      "source": [
        "print(c)"
      ],
      "execution_count": 55,
      "outputs": [
        {
          "output_type": "stream",
          "name": "stdout",
          "text": [
            "[[[ 0  1  2  3]\n",
            "  [ 4  5  6  7]\n",
            "  [ 8  9 10 11]]\n",
            "\n",
            " [[12 13 14 15]\n",
            "  [16 17 18 19]\n",
            "  [20 21 22 23]]]\n"
          ]
        }
      ]
    },
    {
      "cell_type": "code",
      "metadata": {
        "id": "9hqw2RLXcFUM",
        "colab": {
          "base_uri": "https://localhost:8080/"
        },
        "outputId": "1bf1bb1d-5b05-4cad-fb2f-998975c8ed50"
      },
      "source": [
        "bool_idx = (c > 10)\n",
        "print(bool_idx)"
      ],
      "execution_count": 56,
      "outputs": [
        {
          "output_type": "stream",
          "name": "stdout",
          "text": [
            "[[[False False False False]\n",
            "  [False False False False]\n",
            "  [False False False  True]]\n",
            "\n",
            " [[ True  True  True  True]\n",
            "  [ True  True  True  True]\n",
            "  [ True  True  True  True]]]\n"
          ]
        }
      ]
    },
    {
      "cell_type": "code",
      "metadata": {
        "id": "vGjl3jKFcJcG",
        "colab": {
          "base_uri": "https://localhost:8080/"
        },
        "outputId": "8a4e38d2-f510-4df4-c775-910193bdaa9f"
      },
      "source": [
        "print(c[bool_idx])"
      ],
      "execution_count": 57,
      "outputs": [
        {
          "output_type": "stream",
          "name": "stdout",
          "text": [
            "[11 12 13 14 15 16 17 18 19 20 21 22 23]\n"
          ]
        }
      ]
    },
    {
      "cell_type": "code",
      "metadata": {
        "id": "BgGghXYQcMlO",
        "colab": {
          "base_uri": "https://localhost:8080/"
        },
        "outputId": "2001d06c-45b0-44c9-a0db-0820683aefa3"
      },
      "source": [
        "c[c>10] = -1\n",
        "print(c)"
      ],
      "execution_count": 60,
      "outputs": [
        {
          "output_type": "stream",
          "name": "stdout",
          "text": [
            "[[[ 0  1  2  3]\n",
            "  [ 4  5  6  7]\n",
            "  [ 8  9 10 -1]]\n",
            "\n",
            " [[-1 -1 -1 -1]\n",
            "  [-1 -1 -1 -1]\n",
            "  [-1 -1 -1 -1]]]\n"
          ]
        }
      ]
    },
    {
      "cell_type": "markdown",
      "metadata": {
        "id": "bmvORV2OdSMJ"
      },
      "source": [
        "#### fancy indexing"
      ]
    },
    {
      "cell_type": "code",
      "metadata": {
        "id": "dCQrOklRcsu-",
        "colab": {
          "base_uri": "https://localhost:8080/"
        },
        "outputId": "5a46f1b2-0d2e-46a9-d4d2-95175945b7cc"
      },
      "source": [
        "d = np.arange(8).reshape(8,-1)\n",
        "print(d, d.shape)"
      ],
      "execution_count": 61,
      "outputs": [
        {
          "output_type": "stream",
          "name": "stdout",
          "text": [
            "[[0]\n",
            " [1]\n",
            " [2]\n",
            " [3]\n",
            " [4]\n",
            " [5]\n",
            " [6]\n",
            " [7]] (8, 1)\n"
          ]
        }
      ]
    },
    {
      "cell_type": "code",
      "metadata": {
        "id": "5mEK0MeJf3-a",
        "colab": {
          "base_uri": "https://localhost:8080/"
        },
        "outputId": "7ab59cd2-3b7f-4bdc-bef3-5ec6dc3994a8"
      },
      "source": [
        "d = np.hstack((d, d, d, d)) # 가로 방향으로 4개를 붙여라\n",
        "print(d, d.shape)"
      ],
      "execution_count": 62,
      "outputs": [
        {
          "output_type": "stream",
          "name": "stdout",
          "text": [
            "[[0 0 0 0]\n",
            " [1 1 1 1]\n",
            " [2 2 2 2]\n",
            " [3 3 3 3]\n",
            " [4 4 4 4]\n",
            " [5 5 5 5]\n",
            " [6 6 6 6]\n",
            " [7 7 7 7]] (8, 4)\n"
          ]
        }
      ]
    },
    {
      "cell_type": "code",
      "metadata": {
        "id": "SlU7e3UagBZr",
        "colab": {
          "base_uri": "https://localhost:8080/"
        },
        "outputId": "d36f2593-1128-49d0-8571-b1f2f6187967"
      },
      "source": [
        "print(d[[3, 5, 1, 0]])"
      ],
      "execution_count": 63,
      "outputs": [
        {
          "output_type": "stream",
          "name": "stdout",
          "text": [
            "[[3 3 3 3]\n",
            " [5 5 5 5]\n",
            " [1 1 1 1]\n",
            " [0 0 0 0]]\n"
          ]
        }
      ]
    },
    {
      "cell_type": "code",
      "metadata": {
        "id": "X-gaGp9BgIY7",
        "colab": {
          "base_uri": "https://localhost:8080/"
        },
        "outputId": "6f802f82-9b92-49bc-f06a-f9420252a850"
      },
      "source": [
        "print(d[[-3, -5, -7]])"
      ],
      "execution_count": 64,
      "outputs": [
        {
          "output_type": "stream",
          "name": "stdout",
          "text": [
            "[[5 5 5 5]\n",
            " [3 3 3 3]\n",
            " [1 1 1 1]]\n"
          ]
        }
      ]
    },
    {
      "cell_type": "code",
      "metadata": {
        "id": "9g6WshuLgaD7",
        "colab": {
          "base_uri": "https://localhost:8080/"
        },
        "outputId": "7971b2a1-f659-43d4-c8e9-ac4cc9c4ee5a"
      },
      "source": [
        "e = np.arange(32).reshape(8,4)\n",
        "print(e, e.shape)"
      ],
      "execution_count": 65,
      "outputs": [
        {
          "output_type": "stream",
          "name": "stdout",
          "text": [
            "[[ 0  1  2  3]\n",
            " [ 4  5  6  7]\n",
            " [ 8  9 10 11]\n",
            " [12 13 14 15]\n",
            " [16 17 18 19]\n",
            " [20 21 22 23]\n",
            " [24 25 26 27]\n",
            " [28 29 30 31]] (8, 4)\n"
          ]
        }
      ]
    },
    {
      "cell_type": "code",
      "metadata": {
        "id": "zN6fsJdngeO7",
        "colab": {
          "base_uri": "https://localhost:8080/"
        },
        "outputId": "79074537-bdef-4e25-8d39-57e10079793d"
      },
      "source": [
        "print(e[[1,5,7,2], [0,3,1,2]])"
      ],
      "execution_count": 66,
      "outputs": [
        {
          "output_type": "stream",
          "name": "stdout",
          "text": [
            "[ 4 23 29 10]\n"
          ]
        }
      ]
    },
    {
      "cell_type": "code",
      "metadata": {
        "id": "h5GBqi-Kgwgj",
        "colab": {
          "base_uri": "https://localhost:8080/"
        },
        "outputId": "d39c2c5d-b00c-436f-a4a9-327e4c925424"
      },
      "source": [
        "print(e[[1,5,7,2]][:, [0,3,1,2]])"
      ],
      "execution_count": 67,
      "outputs": [
        {
          "output_type": "stream",
          "name": "stdout",
          "text": [
            "[[ 4  7  5  6]\n",
            " [20 23 21 22]\n",
            " [28 31 29 30]\n",
            " [ 8 11  9 10]]\n"
          ]
        }
      ]
    },
    {
      "cell_type": "markdown",
      "metadata": {
        "id": "jG0z0lDdiAaP"
      },
      "source": [
        "### Transpose"
      ]
    },
    {
      "cell_type": "code",
      "metadata": {
        "id": "cpdKdNZ4g-Iq",
        "colab": {
          "base_uri": "https://localhost:8080/"
        },
        "outputId": "78076021-dc44-420b-ee2b-33e746472962"
      },
      "source": [
        "f = np.arange(16).reshape(2,2,4)\n",
        "print(f, f.shape)"
      ],
      "execution_count": 82,
      "outputs": [
        {
          "output_type": "stream",
          "name": "stdout",
          "text": [
            "[[[ 0  1  2  3]\n",
            "  [ 4  5  6  7]]\n",
            "\n",
            " [[ 8  9 10 11]\n",
            "  [12 13 14 15]]] (2, 2, 4)\n"
          ]
        }
      ]
    },
    {
      "cell_type": "code",
      "metadata": {
        "id": "Nd4Re5tXiFhK",
        "colab": {
          "base_uri": "https://localhost:8080/"
        },
        "outputId": "9baa3cf4-be39-4dcd-e571-e337c72ac0a9"
      },
      "source": [
        "print(f.transpose(1, 0, 2)) #순서 바꾸기. 텐서플로우와 파이토치가 이미지를 구분할 때 순서가 다름. height, width, channel. 그때 사용\n",
        "#print(np.transpose(f))"
      ],
      "execution_count": 85,
      "outputs": [
        {
          "output_type": "stream",
          "name": "stdout",
          "text": [
            "[[[ 0  1  2  3]\n",
            "  [ 8  9 10 11]]\n",
            "\n",
            " [[ 4  5  6  7]\n",
            "  [12 13 14 15]]]\n"
          ]
        }
      ]
    },
    {
      "cell_type": "code",
      "metadata": {
        "id": "LibPPlNsiIw6",
        "colab": {
          "base_uri": "https://localhost:8080/"
        },
        "outputId": "25929f91-5ec7-42e6-9a77-1507dabfc845"
      },
      "source": [
        "print(f.swapaxes(0, 1))"
      ],
      "execution_count": 70,
      "outputs": [
        {
          "output_type": "stream",
          "name": "stdout",
          "text": [
            "[[[ 0  1  2  3]\n",
            "  [ 8  9 10 11]]\n",
            "\n",
            " [[ 4  5  6  7]\n",
            "  [12 13 14 15]]]\n"
          ]
        }
      ]
    },
    {
      "cell_type": "markdown",
      "metadata": {
        "id": "pZCOq6PDiV5e"
      },
      "source": [
        "### Numpy 연산"
      ]
    },
    {
      "cell_type": "code",
      "metadata": {
        "id": "t-9-Vc3EiK9S",
        "colab": {
          "base_uri": "https://localhost:8080/"
        },
        "outputId": "014933e0-e84d-41d8-8c02-44e488772646"
      },
      "source": [
        "x = np.array([[1,2], [3,4]], dtype=np.float64)\n",
        "y = np.array([[5,6], [7,8]], dtype=np.float64)\n",
        "print(x)\n",
        "print(y)"
      ],
      "execution_count": 86,
      "outputs": [
        {
          "output_type": "stream",
          "name": "stdout",
          "text": [
            "[[1. 2.]\n",
            " [3. 4.]]\n",
            "[[5. 6.]\n",
            " [7. 8.]]\n"
          ]
        }
      ]
    },
    {
      "cell_type": "code",
      "metadata": {
        "id": "6UvWrq01jNh3",
        "colab": {
          "base_uri": "https://localhost:8080/"
        },
        "outputId": "22b48e02-f0d9-4181-fd46-279c965b094e"
      },
      "source": [
        "print(x + y)\n",
        "print(np.add(x, y))"
      ],
      "execution_count": 87,
      "outputs": [
        {
          "output_type": "stream",
          "name": "stdout",
          "text": [
            "[[ 6.  8.]\n",
            " [10. 12.]]\n",
            "[[ 6.  8.]\n",
            " [10. 12.]]\n"
          ]
        }
      ]
    },
    {
      "cell_type": "code",
      "metadata": {
        "id": "2ZsrTfcJjTnZ",
        "colab": {
          "base_uri": "https://localhost:8080/"
        },
        "outputId": "a5bf047d-4b69-4049-9ac3-311170235ac0"
      },
      "source": [
        "print(x - y)\n",
        "print(np.subtract(x, y))"
      ],
      "execution_count": 88,
      "outputs": [
        {
          "output_type": "stream",
          "name": "stdout",
          "text": [
            "[[-4. -4.]\n",
            " [-4. -4.]]\n",
            "[[-4. -4.]\n",
            " [-4. -4.]]\n"
          ]
        }
      ]
    },
    {
      "cell_type": "code",
      "metadata": {
        "id": "5kdMnErqjYUB",
        "colab": {
          "base_uri": "https://localhost:8080/"
        },
        "outputId": "907b6b08-c3a0-4591-d529-ff61c3874a20"
      },
      "source": [
        "print(x * y)\n",
        "print(np.multiply(x, y))"
      ],
      "execution_count": 89,
      "outputs": [
        {
          "output_type": "stream",
          "name": "stdout",
          "text": [
            "[[ 5. 12.]\n",
            " [21. 32.]]\n",
            "[[ 5. 12.]\n",
            " [21. 32.]]\n"
          ]
        }
      ]
    },
    {
      "cell_type": "code",
      "metadata": {
        "id": "mxYueDx6jcuJ",
        "colab": {
          "base_uri": "https://localhost:8080/"
        },
        "outputId": "b5284bf7-e141-4a67-b55c-add8306f24fe"
      },
      "source": [
        "print(x / y)\n",
        "print(np.divide(x, y))"
      ],
      "execution_count": 90,
      "outputs": [
        {
          "output_type": "stream",
          "name": "stdout",
          "text": [
            "[[0.2        0.33333333]\n",
            " [0.42857143 0.5       ]]\n",
            "[[0.2        0.33333333]\n",
            " [0.42857143 0.5       ]]\n"
          ]
        }
      ]
    },
    {
      "cell_type": "code",
      "metadata": {
        "id": "aNbeKWm3jfUh",
        "colab": {
          "base_uri": "https://localhost:8080/"
        },
        "outputId": "e7e55107-cc0a-4467-8aaa-368517cfdefe"
      },
      "source": [
        "print(x @ y)\n",
        "print(np.matmul(x, y))"
      ],
      "execution_count": 91,
      "outputs": [
        {
          "output_type": "stream",
          "name": "stdout",
          "text": [
            "[[19. 22.]\n",
            " [43. 50.]]\n",
            "[[19. 22.]\n",
            " [43. 50.]]\n"
          ]
        }
      ]
    },
    {
      "cell_type": "code",
      "metadata": {
        "id": "8mF8SzhJjib5",
        "colab": {
          "base_uri": "https://localhost:8080/"
        },
        "outputId": "58568d41-559c-47dd-abc9-88695fde6087"
      },
      "source": [
        "z = np.arange(1, 11).reshape(2, 5)\n",
        "print(z)"
      ],
      "execution_count": 92,
      "outputs": [
        {
          "output_type": "stream",
          "name": "stdout",
          "text": [
            "[[ 1  2  3  4  5]\n",
            " [ 6  7  8  9 10]]\n"
          ]
        }
      ]
    },
    {
      "cell_type": "code",
      "metadata": {
        "id": "5l3gfvRgj9Dp",
        "colab": {
          "base_uri": "https://localhost:8080/"
        },
        "outputId": "3f8ca8c6-8d49-4fec-e41d-9d7192c6ea3c"
      },
      "source": [
        "print(np.sum(z))"
      ],
      "execution_count": 93,
      "outputs": [
        {
          "output_type": "stream",
          "name": "stdout",
          "text": [
            "55\n"
          ]
        }
      ]
    },
    {
      "cell_type": "code",
      "metadata": {
        "id": "8HI9rCNrj_bB",
        "colab": {
          "base_uri": "https://localhost:8080/"
        },
        "outputId": "60ac5923-0a7a-401b-f26b-ec685fa34706"
      },
      "source": [
        "sum1 = np.sum(z, axis=0)\n",
        "sum2 = np.sum(z, axis=1)\n",
        "sum3 = np.sum(z, axis=-1)\n",
        "print(sum1, sum1.shape)\n",
        "print(sum2, sum2.shape)\n",
        "print(sum3, sum3.shape)"
      ],
      "execution_count": 95,
      "outputs": [
        {
          "output_type": "stream",
          "name": "stdout",
          "text": [
            "[ 7  9 11 13 15] (5,)\n",
            "[15 40] (2,)\n",
            "[15 40] (2,)\n"
          ]
        }
      ]
    },
    {
      "cell_type": "markdown",
      "metadata": {
        "id": "RTiUAKLUkPQv"
      },
      "source": [
        "여기서 축(axis)은 각 배열의 차원에 해당되는 index 입니다.\n",
        "\n",
        "axis=0에 대하여 sum을 하라는 것은 0번 축 혹은 차원이 없어지는 방향으로 원소들을 모두 더하라는 얘기입니다.\n",
        "\n",
        "즉, 위 예에서 sum1의 경우, z[0,:]+z[1,:]의 연산을 하라는 의미이고,\n",
        "\n",
        "sum2의 경우에는 z[:,0]+z[:,1]+z[:,2]+z[:,3]+z[:,4]의 연산을 하라는 의미입니다."
      ]
    },
    {
      "cell_type": "code",
      "metadata": {
        "id": "S6PvVtr8kDJY",
        "colab": {
          "base_uri": "https://localhost:8080/"
        },
        "outputId": "2710a911-6462-47d2-b1d8-3fe49af3935f"
      },
      "source": [
        "print(z[0,:] + z[1,:])"
      ],
      "execution_count": 96,
      "outputs": [
        {
          "output_type": "stream",
          "name": "stdout",
          "text": [
            "[ 7  9 11 13 15]\n"
          ]
        }
      ]
    },
    {
      "cell_type": "code",
      "metadata": {
        "id": "QsHzk7AFlhed",
        "colab": {
          "base_uri": "https://localhost:8080/"
        },
        "outputId": "28e5389c-9a86-4838-8594-1f61b2edd58e"
      },
      "source": [
        "print(z[:,0] + z[:,1] + z[:,2] + z[:,3] + z[:,4])"
      ],
      "execution_count": 97,
      "outputs": [
        {
          "output_type": "stream",
          "name": "stdout",
          "text": [
            "[15 40]\n"
          ]
        }
      ]
    },
    {
      "cell_type": "markdown",
      "metadata": {
        "id": "9ClMgTUwmCUt"
      },
      "source": [
        "### Broadcasting\n",
        "\n",
        "Broadcasting은 numpy가 산술 연산을 수행 할 때 다른 모양의 배열로 작업 할 수있게 해주는 강력한 메커니즘입니다. 종종 더 작은 배열과 더 큰 배열이 있을 때 더 작은 배열을 여러 번 사용하여 더 큰 배열에서 어떤 연산을 수행하기를 원할 때가 있습니다.\n",
        "\n",
        "예를 들어, 행렬의 각 행에 상수 벡터를 추가하려 한다고 가정합시다. numpy에서는 다음과 같이 할 수 있습니다."
      ]
    },
    {
      "cell_type": "code",
      "metadata": {
        "id": "nGIMd2pjlnY_"
      },
      "source": [
        "x = np.array([[1,2,3], [4,5,6], [7,8,9], [10,11,12]])\n",
        "y = np.array([1,0,2])"
      ],
      "execution_count": 100,
      "outputs": []
    },
    {
      "cell_type": "code",
      "metadata": {
        "id": "UgSTqLHpmZH3",
        "colab": {
          "base_uri": "https://localhost:8080/"
        },
        "outputId": "da8e8759-a189-4da3-f59f-f7e3f92c9995"
      },
      "source": [
        "print(x, x.shape)\n",
        "print(y, y.shape)"
      ],
      "execution_count": 101,
      "outputs": [
        {
          "output_type": "stream",
          "name": "stdout",
          "text": [
            "[[ 1  2  3]\n",
            " [ 4  5  6]\n",
            " [ 7  8  9]\n",
            " [10 11 12]] (4, 3)\n",
            "[1 0 2] (3,)\n"
          ]
        }
      ]
    },
    {
      "cell_type": "code",
      "metadata": {
        "id": "oCmF2ZEomeL_",
        "colab": {
          "base_uri": "https://localhost:8080/"
        },
        "outputId": "84e50358-5701-4f3d-c1bd-c39b2ede41bb"
      },
      "source": [
        "z = x + y\n",
        "print(z, z.shape)"
      ],
      "execution_count": 102,
      "outputs": [
        {
          "output_type": "stream",
          "name": "stdout",
          "text": [
            "[[ 2  2  5]\n",
            " [ 5  5  8]\n",
            " [ 8  8 11]\n",
            " [11 11 14]] (4, 3)\n"
          ]
        }
      ]
    },
    {
      "cell_type": "markdown",
      "metadata": {
        "id": "truyZgyTm8_7"
      },
      "source": [
        "z = x + y 는 broadcasting으로 인해 x가 shape (4, 3)이고 y가 shape (3)인데도 작동합니다. 이 행은 y가 실제로 shape (4, 3)인 것처럼 작동합니다. 각 행은 y의 사본이었고, 합계는 요소별로 수행되었습니다.\n",
        "\n",
        "두 개의 배열을 브로드캐스팅하는 것은 다음 규칙을 따릅니다.\n",
        "\n",
        "1. 배열의 랭크가 같지 않으면 두 모양이 같은 길이가 될 때까지 배열의 낮은 랭크쪽에 1을 붙입니다.\n",
        "2. 두 배열은 차원에서 크기가 같거나 배열 중 하나의 차원에 크기가 1 인 경우 차원에서 호환 가능하다고 합니다.\n",
        "3. 배열은 모든 차원에서 호환되면 함께 broadcast 될 수 있습니다.\n",
        "4. Broadcast 후 각 배열은 두 개의 입력 배열의 요소 모양 최대 개수와 동일한 모양을 가진 것처럼 동작합니다.\n",
        "5. 한 배열의 크기가 1이고 다른 배열의 크기가 1보다 큰 차원에서 첫 번째 배열은 마치 해당 차원을 따라 복사 된 것처럼 작동합니다\n",
        "\n",
        "실제로 동작하는 방식을 생각해 봅시다.\n",
        "\n",
        "1. A와 B의 모양을 생각합니다.\n",
        "2. 두 배열이 len(A.shape) == len(B.shape)인지 확인을 합니다.\n",
        "3. 같지 않은 경우에는 두 배열의 모양 길이가 같아질때까지 적은 쪽의 shape 앞에 1 을 추가해 줍니다.\n",
        "- 예: (5,3)–>(1,5,3)\n",
        "4. shape이 1인 곳은 복사가 됩니다.\n",
        "- 예: shape의 변화는 아래와 같게 될겁니다.\n",
        "- (5, 3)+(3,)\n",
        "- (5, 3)+(1, 3)\n",
        "- (5, 3) + (5, 3)\n",
        "- (5, 3)\n",
        "\n",
        "이 설명이 이해가되지 않으면 문서 또는 이 설명을 읽으십시오.\n",
        "\n",
        "https://docs.scipy.org/doc/numpy/user/basics.broadcasting.html\n",
        "\n",
        "http://scipy.github.io/old-wiki/pages/EricsBroadcastingDoc\n",
        "\n",
        "Broadcasting을 지원하는 함수들을 보편 함수라고합니다. 이 문서에서 모든 보편 함수 목록을 찾을 수 있습니다.\n",
        "https://docs.scipy.org/doc/numpy/reference/ufuncs.html#available-ufuncs\n"
      ]
    },
    {
      "cell_type": "code",
      "metadata": {
        "id": "tzv4ErwlmhgH",
        "colab": {
          "base_uri": "https://localhost:8080/"
        },
        "outputId": "d16ea34f-fbcc-4710-b013-9485bead822b"
      },
      "source": [
        "x = np.array([1,2,3]).reshape(1,3)\n",
        "y = np.array([4,5]).reshape(1,2)\n",
        "print(x, x.shape)\n",
        "print(y, y.shape)"
      ],
      "execution_count": 103,
      "outputs": [
        {
          "output_type": "stream",
          "name": "stdout",
          "text": [
            "[[1 2 3]] (1, 3)\n",
            "[[4 5]] (1, 2)\n"
          ]
        }
      ]
    },
    {
      "cell_type": "code",
      "metadata": {
        "id": "xEcJFtOyn6J2",
        "colab": {
          "base_uri": "https://localhost:8080/",
          "height": 184
        },
        "outputId": "f99a802c-75c0-4c27-fbd6-e213a79a84e7"
      },
      "source": [
        "# broadcasting 조건에 맞지 않음\n",
        "print(x + y)"
      ],
      "execution_count": 104,
      "outputs": [
        {
          "output_type": "error",
          "ename": "ValueError",
          "evalue": "ignored",
          "traceback": [
            "\u001b[0;31m---------------------------------------------------------------------------\u001b[0m",
            "\u001b[0;31mValueError\u001b[0m                                Traceback (most recent call last)",
            "\u001b[0;32m<ipython-input-104-a56b087de706>\u001b[0m in \u001b[0;36m<module>\u001b[0;34m()\u001b[0m\n\u001b[1;32m      1\u001b[0m \u001b[0;31m# broadcasting 조건에 맞지 않음\u001b[0m\u001b[0;34m\u001b[0m\u001b[0;34m\u001b[0m\u001b[0;34m\u001b[0m\u001b[0m\n\u001b[0;32m----> 2\u001b[0;31m \u001b[0mprint\u001b[0m\u001b[0;34m(\u001b[0m\u001b[0mx\u001b[0m \u001b[0;34m+\u001b[0m \u001b[0my\u001b[0m\u001b[0;34m)\u001b[0m\u001b[0;34m\u001b[0m\u001b[0;34m\u001b[0m\u001b[0m\n\u001b[0m",
            "\u001b[0;31mValueError\u001b[0m: operands could not be broadcast together with shapes (1,3) (1,2) "
          ]
        }
      ]
    },
    {
      "cell_type": "code",
      "metadata": {
        "id": "Ho5FjodPn7rW",
        "colab": {
          "base_uri": "https://localhost:8080/"
        },
        "outputId": "7c69c869-e84d-4e1a-b850-e9d25421aae8"
      },
      "source": [
        "y = y.swapaxes(0, 1)\n",
        "print(y, y.shape)"
      ],
      "execution_count": 105,
      "outputs": [
        {
          "output_type": "stream",
          "name": "stdout",
          "text": [
            "[[4]\n",
            " [5]] (2, 1)\n"
          ]
        }
      ]
    },
    {
      "cell_type": "code",
      "metadata": {
        "id": "6yH754VZoDqe",
        "colab": {
          "base_uri": "https://localhost:8080/"
        },
        "outputId": "34ee40d2-93f6-4703-f206-d6e23275a899"
      },
      "source": [
        "# broadcasting 발생\n",
        "print(x + y)"
      ],
      "execution_count": 106,
      "outputs": [
        {
          "output_type": "stream",
          "name": "stdout",
          "text": [
            "[[5 6 7]\n",
            " [6 7 8]]\n"
          ]
        }
      ]
    },
    {
      "cell_type": "markdown",
      "metadata": {
        "id": "Hsy7GB7moOqU"
      },
      "source": [
        "### Shape 변경"
      ]
    },
    {
      "cell_type": "code",
      "metadata": {
        "id": "QTJ9ljZdoFMu",
        "colab": {
          "base_uri": "https://localhost:8080/"
        },
        "outputId": "75c15223-487e-4b84-dcac-73ace717acc4"
      },
      "source": [
        "a = np.arange(24).reshape(2,3,4)\n",
        "print(a, a.shape)"
      ],
      "execution_count": 107,
      "outputs": [
        {
          "output_type": "stream",
          "name": "stdout",
          "text": [
            "[[[ 0  1  2  3]\n",
            "  [ 4  5  6  7]\n",
            "  [ 8  9 10 11]]\n",
            "\n",
            " [[12 13 14 15]\n",
            "  [16 17 18 19]\n",
            "  [20 21 22 23]]] (2, 3, 4)\n"
          ]
        }
      ]
    },
    {
      "cell_type": "code",
      "metadata": {
        "id": "Uhv1BBmuoZuO",
        "colab": {
          "base_uri": "https://localhost:8080/"
        },
        "outputId": "4d389a8f-af5e-4e3a-8fb7-6315aa750d9e"
      },
      "source": [
        "a = a.reshape(4, -1)\n",
        "print(a, a.shape)"
      ],
      "execution_count": 108,
      "outputs": [
        {
          "output_type": "stream",
          "name": "stdout",
          "text": [
            "[[ 0  1  2  3  4  5]\n",
            " [ 6  7  8  9 10 11]\n",
            " [12 13 14 15 16 17]\n",
            " [18 19 20 21 22 23]] (4, 6)\n"
          ]
        }
      ]
    },
    {
      "cell_type": "code",
      "metadata": {
        "id": "wyv3HPZjoexG",
        "colab": {
          "base_uri": "https://localhost:8080/"
        },
        "outputId": "a010a6ca-274c-425d-908e-388eb8ee7fa8"
      },
      "source": [
        "a = a[..., np.newaxis]\n",
        "print(a, a.shape)"
      ],
      "execution_count": 109,
      "outputs": [
        {
          "output_type": "stream",
          "name": "stdout",
          "text": [
            "[[[ 0]\n",
            "  [ 1]\n",
            "  [ 2]\n",
            "  [ 3]\n",
            "  [ 4]\n",
            "  [ 5]]\n",
            "\n",
            " [[ 6]\n",
            "  [ 7]\n",
            "  [ 8]\n",
            "  [ 9]\n",
            "  [10]\n",
            "  [11]]\n",
            "\n",
            " [[12]\n",
            "  [13]\n",
            "  [14]\n",
            "  [15]\n",
            "  [16]\n",
            "  [17]]\n",
            "\n",
            " [[18]\n",
            "  [19]\n",
            "  [20]\n",
            "  [21]\n",
            "  [22]\n",
            "  [23]]] (4, 6, 1)\n"
          ]
        }
      ]
    },
    {
      "cell_type": "code",
      "metadata": {
        "id": "jQ1jTx3yond-",
        "colab": {
          "base_uri": "https://localhost:8080/"
        },
        "outputId": "b03c5e69-4b0d-4aa4-fb28-3c79ac176b30"
      },
      "source": [
        "a = a.reshape(4, 6)\n",
        "a = np.expand_dims(a, axis=0)\n",
        "print(a, a.shape)"
      ],
      "execution_count": 110,
      "outputs": [
        {
          "output_type": "stream",
          "name": "stdout",
          "text": [
            "[[[ 0  1  2  3  4  5]\n",
            "  [ 6  7  8  9 10 11]\n",
            "  [12 13 14 15 16 17]\n",
            "  [18 19 20 21 22 23]]] (1, 4, 6)\n"
          ]
        }
      ]
    },
    {
      "cell_type": "code",
      "metadata": {
        "id": "-5pQWo_FoyZu",
        "colab": {
          "base_uri": "https://localhost:8080/"
        },
        "outputId": "a8fcc993-2627-41ae-89aa-01af3a88447f"
      },
      "source": [
        "b = a.copy()\n",
        "print(b, b.shape)"
      ],
      "execution_count": 111,
      "outputs": [
        {
          "output_type": "stream",
          "name": "stdout",
          "text": [
            "[[[ 0  1  2  3  4  5]\n",
            "  [ 6  7  8  9 10 11]\n",
            "  [12 13 14 15 16 17]\n",
            "  [18 19 20 21 22 23]]] (1, 4, 6)\n"
          ]
        }
      ]
    },
    {
      "cell_type": "code",
      "metadata": {
        "id": "fwaEn29To4VW",
        "colab": {
          "base_uri": "https://localhost:8080/"
        },
        "outputId": "fdeb1be2-8a1a-45e7-f0d2-2e000103994a"
      },
      "source": [
        "c = np.concatenate((a, b), axis=-1)\n",
        "print(c, c.shape)"
      ],
      "execution_count": 112,
      "outputs": [
        {
          "output_type": "stream",
          "name": "stdout",
          "text": [
            "[[[ 0  1  2  3  4  5  0  1  2  3  4  5]\n",
            "  [ 6  7  8  9 10 11  6  7  8  9 10 11]\n",
            "  [12 13 14 15 16 17 12 13 14 15 16 17]\n",
            "  [18 19 20 21 22 23 18 19 20 21 22 23]]] (1, 4, 12)\n"
          ]
        }
      ]
    },
    {
      "cell_type": "code",
      "metadata": {
        "id": "22ZnBHtZo90m",
        "colab": {
          "base_uri": "https://localhost:8080/"
        },
        "outputId": "e5519d06-0f0d-4396-c475-73d98f49f0dd"
      },
      "source": [
        "c = np.concatenate((a, b), axis=0)\n",
        "print(c, c.shape)"
      ],
      "execution_count": 113,
      "outputs": [
        {
          "output_type": "stream",
          "name": "stdout",
          "text": [
            "[[[ 0  1  2  3  4  5]\n",
            "  [ 6  7  8  9 10 11]\n",
            "  [12 13 14 15 16 17]\n",
            "  [18 19 20 21 22 23]]\n",
            "\n",
            " [[ 0  1  2  3  4  5]\n",
            "  [ 6  7  8  9 10 11]\n",
            "  [12 13 14 15 16 17]\n",
            "  [18 19 20 21 22 23]]] (2, 4, 6)\n"
          ]
        }
      ]
    },
    {
      "cell_type": "code",
      "metadata": {
        "id": "QmL0JoQzpWer",
        "colab": {
          "base_uri": "https://localhost:8080/"
        },
        "outputId": "9d60db4d-f394-4f29-ede0-7849267ca21f"
      },
      "source": [
        "d = np.stack((a, b), axis=-1) # 스택을 쓰면 새로운 차원을 하나 더 만들어 추가함\n",
        "print(d, d.shape)"
      ],
      "execution_count": 114,
      "outputs": [
        {
          "output_type": "stream",
          "name": "stdout",
          "text": [
            "[[[[ 0  0]\n",
            "   [ 1  1]\n",
            "   [ 2  2]\n",
            "   [ 3  3]\n",
            "   [ 4  4]\n",
            "   [ 5  5]]\n",
            "\n",
            "  [[ 6  6]\n",
            "   [ 7  7]\n",
            "   [ 8  8]\n",
            "   [ 9  9]\n",
            "   [10 10]\n",
            "   [11 11]]\n",
            "\n",
            "  [[12 12]\n",
            "   [13 13]\n",
            "   [14 14]\n",
            "   [15 15]\n",
            "   [16 16]\n",
            "   [17 17]]\n",
            "\n",
            "  [[18 18]\n",
            "   [19 19]\n",
            "   [20 20]\n",
            "   [21 21]\n",
            "   [22 22]\n",
            "   [23 23]]]] (1, 4, 6, 2)\n"
          ]
        }
      ]
    },
    {
      "cell_type": "code",
      "metadata": {
        "id": "xwo8TUyIpCqW",
        "colab": {
          "base_uri": "https://localhost:8080/"
        },
        "outputId": "869a4de3-fa4d-4498-c9d6-6fce1425442e"
      },
      "source": [
        "d = np.stack((a, b), axis=0)\n",
        "print(d, d.shape)"
      ],
      "execution_count": 115,
      "outputs": [
        {
          "output_type": "stream",
          "name": "stdout",
          "text": [
            "[[[[ 0  1  2  3  4  5]\n",
            "   [ 6  7  8  9 10 11]\n",
            "   [12 13 14 15 16 17]\n",
            "   [18 19 20 21 22 23]]]\n",
            "\n",
            "\n",
            " [[[ 0  1  2  3  4  5]\n",
            "   [ 6  7  8  9 10 11]\n",
            "   [12 13 14 15 16 17]\n",
            "   [18 19 20 21 22 23]]]] (2, 1, 4, 6)\n"
          ]
        }
      ]
    },
    {
      "cell_type": "code",
      "metadata": {
        "id": "xLS8zMLApi-U"
      },
      "source": [
        ""
      ],
      "execution_count": 115,
      "outputs": []
    }
  ]
}