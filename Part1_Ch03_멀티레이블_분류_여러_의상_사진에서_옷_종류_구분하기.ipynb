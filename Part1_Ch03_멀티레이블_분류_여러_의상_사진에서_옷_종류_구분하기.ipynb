{
  "nbformat": 4,
  "nbformat_minor": 0,
  "metadata": {
    "colab": {
      "name": "Part1_Ch03_멀티레이블 분류 - 여러 의상 사진에서 옷 종류 구분하기.ipynb",
      "provenance": [],
      "collapsed_sections": [],
      "toc_visible": true,
      "include_colab_link": true
    },
    "kernelspec": {
      "name": "python3",
      "display_name": "Python 3"
    },
    "accelerator": "GPU"
  },
  "cells": [
    {
      "cell_type": "markdown",
      "metadata": {
        "id": "view-in-github",
        "colab_type": "text"
      },
      "source": [
        "<a href=\"https://colab.research.google.com/github/crossorbit/hgmldl/blob/main/Part1_Ch03_%EB%A9%80%ED%8B%B0%EB%A0%88%EC%9D%B4%EB%B8%94_%EB%B6%84%EB%A5%98_%EC%97%AC%EB%9F%AC_%EC%9D%98%EC%83%81_%EC%82%AC%EC%A7%84%EC%97%90%EC%84%9C_%EC%98%B7_%EC%A2%85%EB%A5%98_%EA%B5%AC%EB%B6%84%ED%95%98%EA%B8%B0.ipynb\" target=\"_parent\"><img src=\"https://colab.research.google.com/assets/colab-badge.svg\" alt=\"Open In Colab\"/></a>"
      ]
    },
    {
      "cell_type": "markdown",
      "metadata": {
        "id": "oR0VJlz7mi5A"
      },
      "source": [
        "\n",
        "# 주제 : 여러 의상 사진에서 옷 종류 구분하기\n",
        "--------------\n",
        "## 실습 가이드\n",
        "    1. 데이터를 다운로드하여 Colab에 불러옵니다.\n",
        "    2. 필요한 라이브러리는 모두 코드로 작성되어 있습니다.\n",
        "    3. 코드는 위에서부터 아래로 순서대로 실행합니다.\n",
        "    4. 전체 문제 구성은 좌측 첫 번째 아이콘을 통해 확인할 수 있습니다.\n",
        "\n",
        "## 데이터 소개\n",
        "  - 이번 주제의 데이터는 너무나 유명한 fashion MNIST 데이터를 사용합니다.\n",
        "  ![mnist 이미지](https://rviews.rstudio.com/post/2019-10-31-a-comparison-of-methods-for-predicting-clothing-classes-using-the-fashion-mnist-dataset-in-rstudio-and-python-part-1/index_files/figure-html/unnamed-chunk-8-1.png)\n",
        "\n",
        "   위의 이미지는 다음과 같은 것을 보여줍니다.  \n",
        "(a) 28x28의 배열에서 의류의 모습 어떻게 모사되는지   \n",
        "(b) 각 0-9까지의 다양한 의류 그림의 모습들\n",
        "\n",
        "\n",
        "   - 데이터 출처: [fashionmnist](https://www.kaggle.com/zalando-research/fashionmnist)\n",
        "\n",
        "## 최종 목표\n",
        "\n",
        "  - fashion MNIST 이미지를 클래시피케이션 하기\n",
        "  - 멀티 클래스와 멀티레이블 구분하기\n",
        "  - 이미지 확장 하기\n",
        "  - 이미지에 객체 삽입하기\n",
        "\n",
        "  - 출제자 : 손근영 강사\n"
      ]
    },
    {
      "cell_type": "code",
      "metadata": {
        "id": "e7kl3hgkikbo"
      },
      "source": [
        "import tensorflow as tf\n",
        "from tensorflow import keras\n",
        "from keras.layers import Dense\n",
        "from keras.models import Sequential\n",
        "\n",
        "import pandas as pd\n",
        "import numpy as np\n",
        "import matplotlib.pyplot as plt\n",
        "import seaborn as sns\n",
        "import warnings \n",
        "from IPython.display import Image\n",
        "\n",
        "warnings.filterwarnings('ignore')\n",
        "%matplotlib inline\n",
        "\n",
        "SEED = 34"
      ],
      "execution_count": 1,
      "outputs": []
    },
    {
      "cell_type": "markdown",
      "metadata": {
        "id": "c5uDUVunS1Yk"
      },
      "source": [
        "## Step 1. 도입전 기본 처리"
      ]
    },
    {
      "cell_type": "markdown",
      "metadata": {
        "id": "2Bgf6uZtoBob"
      },
      "source": [
        "### 문제 1. fashion mnist 데이터 살펴보기"
      ]
    },
    {
      "cell_type": "code",
      "metadata": {
        "id": "l2NW5G5nTgsb",
        "colab": {
          "base_uri": "https://localhost:8080/"
        },
        "outputId": "9b2f2cde-a066-4fcb-9813-b9772c81fe66"
      },
      "source": [
        "# 데이터를 불러오는 코드를 작성해주세요.\n",
        "fashion_mnist = keras.datasets.fashion_mnist\n",
        "((train_images, train_labels), (test_images, test_labels)) = fashion_mnist.load_data()"
      ],
      "execution_count": 2,
      "outputs": [
        {
          "output_type": "stream",
          "name": "stdout",
          "text": [
            "Downloading data from https://storage.googleapis.com/tensorflow/tf-keras-datasets/train-labels-idx1-ubyte.gz\n",
            "32768/29515 [=================================] - 0s 0us/step\n",
            "40960/29515 [=========================================] - 0s 0us/step\n",
            "Downloading data from https://storage.googleapis.com/tensorflow/tf-keras-datasets/train-images-idx3-ubyte.gz\n",
            "26427392/26421880 [==============================] - 0s 0us/step\n",
            "26435584/26421880 [==============================] - 0s 0us/step\n",
            "Downloading data from https://storage.googleapis.com/tensorflow/tf-keras-datasets/t10k-labels-idx1-ubyte.gz\n",
            "16384/5148 [===============================================================================================] - 0s 0us/step\n",
            "Downloading data from https://storage.googleapis.com/tensorflow/tf-keras-datasets/t10k-images-idx3-ubyte.gz\n",
            "4423680/4422102 [==============================] - 0s 0us/step\n",
            "4431872/4422102 [==============================] - 0s 0us/step\n"
          ]
        }
      ]
    },
    {
      "cell_type": "markdown",
      "metadata": {
        "id": "ko4D-BpJTq2r"
      },
      "source": [
        "### 문제 2. train_images/labels와 test_images/labes의 shape을 출력해보세요."
      ]
    },
    {
      "cell_type": "code",
      "metadata": {
        "id": "waksbx9aT5tK",
        "colab": {
          "base_uri": "https://localhost:8080/"
        },
        "outputId": "ec7541af-25e5-417e-e0f0-e5f4f04caff7"
      },
      "source": [
        "# 데이터의 크기를 shape 함수를 통해 출력해주세요.\n",
        "print(f\"train_images.shape: {train_images.shape}\")\n",
        "print(f\"train_labels.shape: {train_labels.shape}\")\n",
        "print(f\"test_images.shape: {test_images.shape}\")\n",
        "print(f\"test_labels.shape: {test_labels.shape}\")"
      ],
      "execution_count": 5,
      "outputs": [
        {
          "output_type": "stream",
          "name": "stdout",
          "text": [
            "train_images.shape: (60000, 28, 28)\n",
            "train_labels.shape: (60000,)\n",
            "test_images.shape: (10000, 28, 28)\n",
            "test_labels.shape: (10000,)\n"
          ]
        }
      ]
    },
    {
      "cell_type": "code",
      "metadata": {
        "id": "KlDtX99RrTBe"
      },
      "source": [
        "# 레이블을 설정해보세요.\n",
        "labels = [\"T-shirt/Top\", # index 0\n",
        "          \"Trouser\",    #index 1\n",
        "          \"Pullover\",\n",
        "          \"Dress\",        # index 3 \n",
        "          \"Coat\",         # index 4\n",
        "          \"Sandal\",       # index 5\n",
        "          \"Shirt\",        # index 6 \n",
        "          \"Sneaker\",      # index 7 \n",
        "          \"Bag\",          # index 8 \n",
        "          \"Ankle boot\"   # index 9\n",
        "          ]\n",
        "\n",
        "def idx2label(idx):\n",
        "    return labels[idx]"
      ],
      "execution_count": 3,
      "outputs": []
    },
    {
      "cell_type": "code",
      "metadata": {
        "colab": {
          "base_uri": "https://localhost:8080/",
          "height": 36
        },
        "id": "4TN3ClsKwinq",
        "outputId": "774b147d-a182-4935-8fa6-d2f4074bdb0c"
      },
      "source": [
        "idx2label(test_labels[1])"
      ],
      "execution_count": 6,
      "outputs": [
        {
          "output_type": "execute_result",
          "data": {
            "application/vnd.google.colaboratory.intrinsic+json": {
              "type": "string"
            },
            "text/plain": [
              "'Pullover'"
            ]
          },
          "metadata": {},
          "execution_count": 6
        }
      ]
    },
    {
      "cell_type": "markdown",
      "metadata": {
        "id": "hrmQ7HzEUKrz"
      },
      "source": [
        "### 문제 3. (28, 28) 형태의 이미지를 plt을 이용하여 출력해보세요."
      ]
    },
    {
      "cell_type": "code",
      "metadata": {
        "id": "fVzGHMSYUUKk",
        "colab": {
          "base_uri": "https://localhost:8080/",
          "height": 284
        },
        "outputId": "9ffd4130-e1a9-4d25-afa1-3925a01b141c"
      },
      "source": [
        "# 28x28의 흑백 이미지를 plt를 이용하여 출력하는 코드를 작성해보세요\n",
        "plt.imshow(test_images[0])\n",
        "plt.show()\n",
        "print(idx2label(test_labels[0]))"
      ],
      "execution_count": 7,
      "outputs": [
        {
          "output_type": "display_data",
          "data": {
            "image/png": "[encoded data removed]",
            "text/plain": [
              "<Figure size 432x288 with 1 Axes>"
            ]
          },
          "metadata": {
            "needs_background": "light"
          }
        },
        {
          "output_type": "stream",
          "name": "stdout",
          "text": [
            "Ankle boot\n"
          ]
        }
      ]
    },
    {
      "cell_type": "code",
      "metadata": {
        "id": "dV75uS_1rcpo",
        "colab": {
          "base_uri": "https://localhost:8080/",
          "height": 281
        },
        "outputId": "74f066f2-bc2d-4220-eb44-86d600d9ff1f"
      },
      "source": [
        "# plt의 title에 label 정보를 출력해보세요.\n",
        "\n",
        "plt.imshow(test_images[1], cmap=\"gray\")\n",
        "plt.title(idx2label(train_labels[1]))\n",
        "plt.show()\n",
        "\n",
        "def show(idx):\n",
        "    plt.imshow(train_images[idx], cmap = \"gray\")\n",
        "    plt.title(idx2label(train_labels[idx]))\n",
        "    plt.show()"
      ],
      "execution_count": 8,
      "outputs": [
        {
          "output_type": "display_data",
          "data": {
            "image/png": "[encoded data removed]",
            "text/plain": [
              "<Figure size 432x288 with 1 Axes>"
            ]
          },
          "metadata": {
            "needs_background": "light"
          }
        }
      ]
    },
    {
      "cell_type": "code",
      "metadata": {
        "colab": {
          "base_uri": "https://localhost:8080/",
          "height": 281
        },
        "id": "r8Rt-BJRxOHU",
        "outputId": "56e8836b-5c77-4d4d-c21b-d8a637892424"
      },
      "source": [
        "show(12)"
      ],
      "execution_count": 9,
      "outputs": [
        {
          "output_type": "display_data",
          "data": {
            "image/png": "[encoded data removed]",
            "text/plain": [
              "<Figure size 432x288 with 1 Axes>"
            ]
          },
          "metadata": {
            "needs_background": "light"
          }
        }
      ]
    },
    {
      "cell_type": "markdown",
      "metadata": {
        "id": "vDLHexaGUs17"
      },
      "source": [
        "### 문제 4. train_images에서 0이 아닌 값들을 출력해보세요."
      ]
    },
    {
      "cell_type": "code",
      "metadata": {
        "id": "1NYdCv1yUsKG",
        "colab": {
          "base_uri": "https://localhost:8080/"
        },
        "outputId": "b14be3eb-7d18-4592-e6bf-ca955cab2b4e"
      },
      "source": [
        "# 하나의 이미지에 대한 모든 0이 아닌 값을 출력하는 코드를 작성하세요.\n",
        "train_images[train_images != 0][:5]"
      ],
      "execution_count": 10,
      "outputs": [
        {
          "output_type": "execute_result",
          "data": {
            "text/plain": [
              "array([ 1, 13, 73,  1,  4], dtype=uint8)"
            ]
          },
          "metadata": {},
          "execution_count": 10
        }
      ]
    },
    {
      "cell_type": "code",
      "metadata": {
        "colab": {
          "base_uri": "https://localhost:8080/",
          "height": 886
        },
        "id": "xrePayRWxtQi",
        "outputId": "7b554fc7-317f-4769-9353-2ae2c7837aa1"
      },
      "source": [
        "list(filter(lambda x: x!=0, train_images.reshape(-1)))[:10]"
      ],
      "execution_count": 12,
      "outputs": [
        {
          "output_type": "stream",
          "name": "stderr",
          "text": [
            "ERROR:root:Internal Python error in the inspect module.\n",
            "Below is the traceback from this internal error.\n",
            "\n"
          ]
        },
        {
          "output_type": "stream",
          "name": "stdout",
          "text": [
            "Traceback (most recent call last):\n",
            "  File \"/usr/local/lib/python3.7/dist-packages/IPython/core/interactiveshell.py\", line 2882, in run_code\n",
            "    exec(code_obj, self.user_global_ns, self.user_ns)\n",
            "  File \"<ipython-input-12-c5f00212f07a>\", line 1, in <module>\n",
            "    list(filter(lambda x: x!=0, train_images.reshape(-1)))[:10]\n",
            "  File \"<ipython-input-12-c5f00212f07a>\", line 1, in <lambda>\n",
            "    list(filter(lambda x: x!=0, train_images.reshape(-1)))[:10]\n",
            "KeyboardInterrupt\n",
            "\n",
            "During handling of the above exception, another exception occurred:\n",
            "\n",
            "Traceback (most recent call last):\n",
            "  File \"/usr/local/lib/python3.7/dist-packages/IPython/core/interactiveshell.py\", line 1823, in showtraceback\n",
            "    stb = value._render_traceback_()\n",
            "AttributeError: 'KeyboardInterrupt' object has no attribute '_render_traceback_'\n",
            "\n",
            "During handling of the above exception, another exception occurred:\n",
            "\n",
            "Traceback (most recent call last):\n",
            "  File \"/usr/local/lib/python3.7/dist-packages/IPython/core/ultratb.py\", line 1132, in get_records\n",
            "    return _fixed_getinnerframes(etb, number_of_lines_of_context, tb_offset)\n",
            "  File \"/usr/local/lib/python3.7/dist-packages/IPython/core/ultratb.py\", line 313, in wrapped\n",
            "    return f(*args, **kwargs)\n",
            "  File \"/usr/local/lib/python3.7/dist-packages/IPython/core/ultratb.py\", line 358, in _fixed_getinnerframes\n",
            "    records = fix_frame_records_filenames(inspect.getinnerframes(etb, context))\n",
            "  File \"/usr/lib/python3.7/inspect.py\", line 1502, in getinnerframes\n",
            "    frameinfo = (tb.tb_frame,) + getframeinfo(tb, context)\n",
            "  File \"/usr/lib/python3.7/inspect.py\", line 1460, in getframeinfo\n",
            "    filename = getsourcefile(frame) or getfile(frame)\n",
            "  File \"/usr/lib/python3.7/inspect.py\", line 696, in getsourcefile\n",
            "    if getattr(getmodule(object, filename), '__loader__', None) is not None:\n",
            "  File \"/usr/lib/python3.7/inspect.py\", line 742, in getmodule\n",
            "    os.path.realpath(f)] = module.__name__\n",
            "  File \"/usr/lib/python3.7/posixpath.py\", line 395, in realpath\n",
            "    path, ok = _joinrealpath(filename[:0], filename, {})\n",
            "  File \"/usr/lib/python3.7/posixpath.py\", line 429, in _joinrealpath\n",
            "    if not islink(newpath):\n",
            "  File \"/usr/lib/python3.7/posixpath.py\", line 171, in islink\n",
            "    st = os.lstat(path)\n",
            "KeyboardInterrupt\n"
          ]
        },
        {
          "output_type": "error",
          "ename": "KeyboardInterrupt",
          "evalue": "ignored",
          "traceback": [
            "\u001b[0;31m---------------------------------------------------------------------------\u001b[0m"
          ]
        }
      ]
    },
    {
      "cell_type": "code",
      "metadata": {
        "id": "iTBMH7M1tfNI",
        "colab": {
          "base_uri": "https://localhost:8080/"
        },
        "outputId": "0c2fd750-771a-4052-c176-9fc6051eefa1"
      },
      "source": [
        "# 이미지의 값이 가장 큰 idx와 작은 idx를 구하여 출력해보세요\n",
        "print(train_images.reshape((60000, -1)).shape)\n",
        "print(train_images.reshape((60000, -1)).sum(axis=1).argmax())\n",
        "print(train_images.reshape((60000, -1)).sum(axis=1).argmin())"
      ],
      "execution_count": 25,
      "outputs": [
        {
          "output_type": "stream",
          "name": "stdout",
          "text": [
            "(60000, 784)\n",
            "55023\n",
            "9230\n"
          ]
        }
      ]
    },
    {
      "cell_type": "code",
      "metadata": {
        "colab": {
          "base_uri": "https://localhost:8080/"
        },
        "id": "uEvyt3dLy_6O",
        "outputId": "e7f13f70-843e-4cbd-9dd8-08b66dafed15"
      },
      "source": [
        "print(train_images.reshape((60000, -1)).sum(axis=1)[55023])\n",
        "print(train_images.reshape((60000, -1)).sum(axis=1)[9230])"
      ],
      "execution_count": 15,
      "outputs": [
        {
          "output_type": "stream",
          "name": "stdout",
          "text": [
            "150387\n",
            "3876\n"
          ]
        }
      ]
    },
    {
      "cell_type": "code",
      "metadata": {
        "colab": {
          "base_uri": "https://localhost:8080/",
          "height": 281
        },
        "id": "skl2p1eqzHb7",
        "outputId": "fc342ef3-0467-40bb-ff86-15e285e72490"
      },
      "source": [
        "show(55023)"
      ],
      "execution_count": 18,
      "outputs": [
        {
          "output_type": "display_data",
          "data": {
            "image/png": "[encoded data removed]",
            "text/plain": [
              "<Figure size 432x288 with 1 Axes>"
            ]
          },
          "metadata": {
            "needs_background": "light"
          }
        }
      ]
    },
    {
      "cell_type": "code",
      "metadata": {
        "colab": {
          "base_uri": "https://localhost:8080/",
          "height": 281
        },
        "id": "4y-GlwzxzK-q",
        "outputId": "3ec0fe48-d223-4908-db92-cadbf67ef9fb"
      },
      "source": [
        "show(9230)"
      ],
      "execution_count": null,
      "outputs": [
        {
          "output_type": "display_data",
          "data": {
            "image/png": "[encoded data removed]",
            "text/plain": [
              "<Figure size 432x288 with 1 Axes>"
            ]
          },
          "metadata": {
            "tags": [],
            "needs_background": "light"
          }
        }
      ]
    },
    {
      "cell_type": "markdown",
      "metadata": {
        "id": "CZOhbFOFU_jr"
      },
      "source": [
        "### 문제 5. train_images의 dtype을 출력해보세요."
      ]
    },
    {
      "cell_type": "code",
      "metadata": {
        "id": "nVc4kjgAVNl7",
        "colab": {
          "base_uri": "https://localhost:8080/"
        },
        "outputId": "ec827bf7-c79f-4c99-fc36-75c1a5e0fe6f"
      },
      "source": [
        "# dtype을 이용하여 이미지의 np array type을 확인해보세요.\n",
        "train_images.dtype"
      ],
      "execution_count": null,
      "outputs": [
        {
          "output_type": "execute_result",
          "data": {
            "text/plain": [
              "dtype('uint8')"
            ]
          },
          "metadata": {
            "tags": []
          },
          "execution_count": 25
        }
      ]
    },
    {
      "cell_type": "markdown",
      "metadata": {
        "id": "eKv9UoZAxTr6"
      },
      "source": [
        "## Step 2. 전처리"
      ]
    },
    {
      "cell_type": "markdown",
      "metadata": {
        "id": "UTXpP1Imyaad"
      },
      "source": [
        "### 문제 6. train/test 이미지 데이터의 범위 확인"
      ]
    },
    {
      "cell_type": "code",
      "metadata": {
        "id": "Ji6XLxvRy5eJ",
        "colab": {
          "base_uri": "https://localhost:8080/"
        },
        "outputId": "909c9947-3b88-40e0-f9e2-7637cf81be21"
      },
      "source": [
        "# test_images의 shape과 dtype, 0이 아닌 숫자를 출력하는 코드를 작성하세요.\n",
        "\n",
        "print(f\"train_images: {list(filter(lambda x: x!=0, train_images[1000].reshape(-1)))[:10]}\")\n",
        "print(f\"test_images: {list(filter(lambda x: x!=0, test_images[1000].reshape(-1)))[:10]}\")\n",
        "print(f\"train_images: {train_images[train_images !=0][:10]}\")\n",
        "print(f\"test_images: {test_images[test_images !=0][:10]}\")\n",
        "\n",
        "\n",
        "print(f\"train_images: {train_images.shape}\")\n",
        "print(f\"test_images: {test_images.shape}\")\n",
        "\n",
        "print(f\"train_images: {train_images.dtype}\")\n",
        "print(f\"test_images: {test_images.dtype}\")"
      ],
      "execution_count": null,
      "outputs": [
        {
          "output_type": "stream",
          "text": [
            "train_images: [97, 84, 97, 110, 108, 87, 97, 19, 255, 199]\n",
            "test_images: [1, 84, 80, 13, 97, 48, 161, 189, 197, 1]\n",
            "train_images: [  1  13  73   1   4   1   1   3  36 136]\n",
            "test_images: [  3   1   7  37   1   2  27  84  11 119]\n",
            "train_images: (60000, 28, 28)\n",
            "test_images: (10000, 28, 28)\n",
            "train_images: uint8\n",
            "test_images: uint8\n"
          ],
          "name": "stdout"
        }
      ]
    },
    {
      "cell_type": "markdown",
      "metadata": {
        "id": "7OpFGbD6V8Zl"
      },
      "source": [
        "### 문제 7. train/test 이미지 데이터의 최소/최대값을 출력"
      ]
    },
    {
      "cell_type": "code",
      "metadata": {
        "id": "sFOJNRTvYo7d",
        "colab": {
          "base_uri": "https://localhost:8080/"
        },
        "outputId": "1cdfc843-1bab-4bea-eead-4d9fd845e233"
      },
      "source": [
        "# train/test 전체 데이터에서 각 images, labels의 min, max를 출력하는 코드를 작성하세요.\n",
        "print(  train_images.min(), train_images.max()  )\n",
        "print(  test_images.min(), test_images.max()  )\n",
        "\n",
        "print(  train_labels.min(), train_labels.max()  )\n",
        "print(  test_labels.min(), test_labels.max()  )"
      ],
      "execution_count": null,
      "outputs": [
        {
          "output_type": "stream",
          "text": [
            "0 255\n",
            "0 255\n",
            "0 9\n",
            "0 9\n"
          ],
          "name": "stdout"
        }
      ]
    },
    {
      "cell_type": "markdown",
      "metadata": {
        "id": "W_xsByHegZhh"
      },
      "source": [
        "### 문제 8. 정수형을 실수형으로 변경 후 dtype으로 비교"
      ]
    },
    {
      "cell_type": "code",
      "metadata": {
        "id": "Y88qmAVChg_Z",
        "colab": {
          "base_uri": "https://localhost:8080/"
        },
        "outputId": "f3eb4153-7fe4-489f-cb68-9a7506c42cf6"
      },
      "source": [
        "# train/test 데이터의 타입을 dtype으로 확인해보고 실수형으로 전환하는 코드를 작성하세요.\n",
        "print(  train_images.dtype  )\n",
        "print(  test_images.dtype  )"
      ],
      "execution_count": null,
      "outputs": [
        {
          "output_type": "stream",
          "text": [
            "uint8\n",
            "uint8\n"
          ],
          "name": "stdout"
        }
      ]
    },
    {
      "cell_type": "code",
      "metadata": {
        "id": "2QAIIK5Z1edW"
      },
      "source": [
        "train_images = train_images.astype(np.float64)\n",
        "test_images = test_images.astype(np.float64)"
      ],
      "execution_count": 4,
      "outputs": []
    },
    {
      "cell_type": "code",
      "metadata": {
        "colab": {
          "base_uri": "https://localhost:8080/"
        },
        "id": "9weNqkE_16Gv",
        "outputId": "4da16fb8-47aa-468c-ff04-4f1bd8267590"
      },
      "source": [
        "print(  train_images.dtype  )\n",
        "print(  test_images.dtype  )\n",
        "print(  train_images.min(), train_images.max()  )\n",
        "print(  test_images.min(), test_images.max()  )"
      ],
      "execution_count": null,
      "outputs": [
        {
          "output_type": "stream",
          "text": [
            "float64\n",
            "float64\n",
            "0.0 255.0\n",
            "0.0 255.0\n"
          ],
          "name": "stdout"
        }
      ]
    },
    {
      "cell_type": "markdown",
      "metadata": {
        "id": "9iIJK2qsfevX"
      },
      "source": [
        "### 문제 9. 데이터 0-1 노말라이즈 수행\n"
      ]
    },
    {
      "cell_type": "markdown",
      "metadata": {
        "id": "L0f__zuBfotM"
      },
      "source": [
        "#### 힌트\n",
        "\n",
        "일반적으로 0-1사의의 값을 가지게 하기 위해서는 다음 수식을 사용합니다.\n",
        "\n",
        "$$normalize(x) = \\frac{x - 최소값}{최대값 - 최소값}$$\n",
        "\n",
        "이 경우 최소값이 0이기 떄문에 다음과 같이 간편하게 구할 수 있습니다.\n",
        "\n",
        "$$normalize(x) = \\frac{x}{최대값}$$"
      ]
    },
    {
      "cell_type": "code",
      "metadata": {
        "id": "SV2A6JZBf7Ku",
        "colab": {
          "base_uri": "https://localhost:8080/"
        },
        "outputId": "15bcd8ca-5378-419d-a7c7-c33f56d3011b"
      },
      "source": [
        "# images의 값이 0-1사이의 값을 같도록 코드를 작성해보세요.\n",
        "(train_images / 255.0).min(), (train_images / 255.0).max()"
      ],
      "execution_count": 5,
      "outputs": [
        {
          "output_type": "execute_result",
          "data": {
            "text/plain": [
              "(0.0, 1.0)"
            ]
          },
          "metadata": {},
          "execution_count": 5
        }
      ]
    },
    {
      "cell_type": "code",
      "metadata": {
        "id": "-mVAW1rvwoTP"
      },
      "source": [
        "# 임의의 구간으로 노말라이즈 할 수 있는 코드를 작성해보세요\n",
        "def norm(data):\n",
        "    min_v = data.min()\n",
        "    max_v = data.max()\n",
        "    return (data - min_v) / (max_v - min_v)\n"
      ],
      "execution_count": 6,
      "outputs": []
    },
    {
      "cell_type": "code",
      "metadata": {
        "colab": {
          "base_uri": "https://localhost:8080/"
        },
        "id": "x0GN3eM43A-O",
        "outputId": "ec38b524-5dd0-4543-f405-e2283b5c93e4"
      },
      "source": [
        "print ( norm(train_images).min(),  norm(train_images).max() )\n",
        "print ( norm(train_labels).min(),  norm(train_labels).max() )\n"
      ],
      "execution_count": 29,
      "outputs": [
        {
          "output_type": "stream",
          "name": "stdout",
          "text": [
            "0.0 1.0\n",
            "0.0 1.0\n"
          ]
        }
      ]
    },
    {
      "cell_type": "code",
      "metadata": {
        "id": "tOWYmASz3WLG"
      },
      "source": [
        "train_images  = norm(train_images)\n",
        "test_images  = norm(test_images)"
      ],
      "execution_count": 7,
      "outputs": []
    },
    {
      "cell_type": "code",
      "metadata": {
        "colab": {
          "base_uri": "https://localhost:8080/"
        },
        "id": "24Rzwm7Z3cRA",
        "outputId": "2e0e72af-8fe6-4c3a-ce98-77b4d9015e31"
      },
      "source": [
        "print(  train_images.min(), train_images.max()  )\n",
        "print(  test_images.min(), test_images.max()  )"
      ],
      "execution_count": 32,
      "outputs": [
        {
          "output_type": "stream",
          "name": "stdout",
          "text": [
            "0.0 1.0\n",
            "0.0 1.0\n"
          ]
        }
      ]
    },
    {
      "cell_type": "markdown",
      "metadata": {
        "id": "8QqqdPzDiC3F"
      },
      "source": [
        "### 문제 10. 0-1 노말라이즈 후 데이터의 값이 변경되었는지 문제 6, 7의 방법을 이용하여 확인하세요."
      ]
    },
    {
      "cell_type": "code",
      "metadata": {
        "id": "t-ZKXRKO2rBE",
        "colab": {
          "base_uri": "https://localhost:8080/"
        },
        "outputId": "8af3269c-cba9-4228-abcf-6bd7d48a658c"
      },
      "source": [
        "# 노말라이즈 후 min/max, shape, 0이 아닌 값, dtype 등을 확인하는 코드를 작성해보세요. \n",
        "print(f\"train_images: {list(filter(lambda x: x!=0, train_images[1000].reshape(-1)))[:10]}\")\n",
        "print(f\"test_images: {list(filter(lambda x: x!=0, test_images[1000].reshape(-1)))[:10]}\")\n",
        "print(f\"train_images: {train_images[train_images !=0][:10]}\")\n",
        "print(f\"test_images: {test_images[test_images !=0][:10]}\")\n",
        "\n",
        "\n",
        "print(f\"train_images: {train_images.shape}\")\n",
        "print(f\"test_images: {test_images.shape}\")\n",
        "\n",
        "print(f\"train_images: {train_images.dtype}\")\n",
        "print(f\"test_images: {test_images.dtype}\")"
      ],
      "execution_count": 33,
      "outputs": [
        {
          "output_type": "stream",
          "name": "stdout",
          "text": [
            "train_images: [0.3803921568627451, 0.32941176470588235, 0.3803921568627451, 0.43137254901960786, 0.4235294117647059, 0.3411764705882353, 0.3803921568627451, 0.07450980392156863, 1.0, 0.7803921568627451]\n",
            "test_images: [0.00392156862745098, 0.32941176470588235, 0.3137254901960784, 0.050980392156862744, 0.3803921568627451, 0.18823529411764706, 0.6313725490196078, 0.7411764705882353, 0.7725490196078432, 0.00392156862745098]\n",
            "train_images: [0.00392157 0.05098039 0.28627451 0.00392157 0.01568627 0.00392157\n",
            " 0.00392157 0.01176471 0.14117647 0.53333333]\n",
            "test_images: [0.01176471 0.00392157 0.02745098 0.14509804 0.00392157 0.00784314\n",
            " 0.10588235 0.32941176 0.04313725 0.46666667]\n",
            "train_images: (60000, 28, 28)\n",
            "test_images: (10000, 28, 28)\n",
            "train_images: float64\n",
            "test_images: float64\n"
          ]
        }
      ]
    },
    {
      "cell_type": "code",
      "metadata": {
        "id": "r855HJjIw7Zv",
        "colab": {
          "base_uri": "https://localhost:8080/"
        },
        "outputId": "97d38f3f-9f51-4442-bcf3-1f4c4492d208"
      },
      "source": [
        "# 스케일링 범위를 바꿔서 시도해보세요\n",
        "\n",
        "a = norm(train_images) * 3\n",
        "print(a.min(), a.max())\n",
        "\n",
        "a = norm(train_images) * 4\n",
        "print(a.min(), a.max())"
      ],
      "execution_count": 34,
      "outputs": [
        {
          "output_type": "stream",
          "name": "stdout",
          "text": [
            "0.0 3.0\n",
            "0.0 4.0\n"
          ]
        }
      ]
    },
    {
      "cell_type": "markdown",
      "metadata": {
        "id": "SMyUArry3UhT"
      },
      "source": [
        "## Step 3. 시각화 방법"
      ]
    },
    {
      "cell_type": "markdown",
      "metadata": {
        "id": "UFga-Bbo6L0E"
      },
      "source": [
        "### 문제 11. train_image의 이미지를 5장 획득하여 (5, 28, 28)의 shape을 출력하세요."
      ]
    },
    {
      "cell_type": "code",
      "metadata": {
        "id": "cLaqqwz4i_7D",
        "colab": {
          "base_uri": "https://localhost:8080/"
        },
        "outputId": "68233105-5fa4-4796-b6d8-a31dc2af69d7"
      },
      "source": [
        "# (60000, 28, 28)인 train_images에서 (5, 28, 28)을 획득하는 코드를 작성하세요.\n",
        "train_images[:5].shape"
      ],
      "execution_count": 35,
      "outputs": [
        {
          "output_type": "execute_result",
          "data": {
            "text/plain": [
              "(5, 28, 28)"
            ]
          },
          "metadata": {},
          "execution_count": 35
        }
      ]
    },
    {
      "cell_type": "markdown",
      "metadata": {
        "id": "gX8JH97njNNr"
      },
      "source": [
        "### 문제 12. 획득한 5장의 의미지를 (28, 28 * 5)의 shape으로 변경해보세요."
      ]
    },
    {
      "cell_type": "code",
      "metadata": {
        "id": "bxRhMcaKk3Pa",
        "colab": {
          "base_uri": "https://localhost:8080/"
        },
        "outputId": "cd3ad094-483e-4447-997a-693c14fc2d73"
      },
      "source": [
        "# np.hstack은 height 방향의 배열을 풀어서 width 방향으로 연결해줍니다.\n",
        "# 해당 기능을 쓰면 (height, image_height, image_width)의 shape을 (image_height, image_width * height)으로 바꿔 줄 수 있습니다.\n",
        "# 코드를 작성해보세요.\n",
        "np.hstack(train_images[:5]).shape"
      ],
      "execution_count": 36,
      "outputs": [
        {
          "output_type": "execute_result",
          "data": {
            "text/plain": [
              "(28, 140)"
            ]
          },
          "metadata": {},
          "execution_count": 36
        }
      ]
    },
    {
      "cell_type": "markdown",
      "metadata": {
        "id": "xqyaO-5bk-sj"
      },
      "source": [
        "### 문제 13. np.hstack은 tensorflow에서 제공하는 방법이 아니므로 transpose 함수를 이용하여 (28, 28 * 5)로 shape을 변경해보세요."
      ]
    },
    {
      "cell_type": "code",
      "metadata": {
        "id": "SqmKdjlGlqLJ",
        "colab": {
          "base_uri": "https://localhost:8080/"
        },
        "outputId": "f3ee7a42-95f5-414b-b4a8-cb343757127c"
      },
      "source": [
        "# transpose는 tensor의 axis를 섞는 기능을 합니다.\n",
        "# 해당 기능을 이용해서 (28, 140)을 작성하는 코드를 작성해보세요.\n",
        "train_images[:5].transpose((1, 0, 2)).reshape((28, -1)).shape"
      ],
      "execution_count": null,
      "outputs": [
        {
          "output_type": "execute_result",
          "data": {
            "text/plain": [
              "(28, 140)"
            ]
          },
          "metadata": {
            "tags": []
          },
          "execution_count": 79
        }
      ]
    },
    {
      "cell_type": "markdown",
      "metadata": {
        "id": "T0oaToP6l0Pd"
      },
      "source": [
        "### 문제 14. (28, 140)이 된 tensor를 plt로 출력해보세요."
      ]
    },
    {
      "cell_type": "code",
      "metadata": {
        "id": "ToUpk3oBmIr1",
        "colab": {
          "base_uri": "https://localhost:8080/",
          "height": 137
        },
        "outputId": "64eeeace-88ab-4a9a-db16-35e74bf36af1"
      },
      "source": [
        "# (28, 140)의 이미지를 plt로 출력해보세요.\n",
        "plt.imshow(np.hstack(train_images[:5]))"
      ],
      "execution_count": 37,
      "outputs": [
        {
          "output_type": "execute_result",
          "data": {
            "text/plain": [
              "<matplotlib.image.AxesImage at 0x7f01824aaad0>"
            ]
          },
          "metadata": {},
          "execution_count": 37
        },
        {
          "output_type": "display_data",
          "data": {
            "image/png": "[encoded data removed]",
            "text/plain": [
              "<Figure size 432x288 with 1 Axes>"
            ]
          },
          "metadata": {
            "needs_background": "light"
          }
        }
      ]
    },
    {
      "cell_type": "code",
      "metadata": {
        "colab": {
          "base_uri": "https://localhost:8080/",
          "height": 137
        },
        "id": "Ke8Di6l-7oJ7",
        "outputId": "825bc29f-63c3-42bb-9786-c4c3c7a7798f"
      },
      "source": [
        "# (28, 140)의 이미지를 plt로 출력해보세요.\n",
        "plt.imshow(train_images[:5].transpose((1, 0, 2)).reshape((28, -1)))"
      ],
      "execution_count": 41,
      "outputs": [
        {
          "output_type": "execute_result",
          "data": {
            "text/plain": [
              "<matplotlib.image.AxesImage at 0x7f01820ecb10>"
            ]
          },
          "metadata": {},
          "execution_count": 41
        },
        {
          "output_type": "display_data",
          "data": {
            "image/png": "[encoded data removed]",
            "text/plain": [
              "<Figure size 432x288 with 1 Axes>"
            ]
          },
          "metadata": {
            "needs_background": "light"
          }
        }
      ]
    },
    {
      "cell_type": "code",
      "metadata": {
        "id": "TZAF8OlW1HsT"
      },
      "source": [
        "# 레이블에 따라 5개를 출력하는 함수를 만들어보세요.\n",
        "plt.show(train_images[ np.argwhere( train_images ==4)[:5,...,0]].transpose((1,0,2)).reshape((28, -1 )))"
      ],
      "execution_count": 46,
      "outputs": []
    },
    {
      "cell_type": "code",
      "metadata": {
        "id": "1Se96ECP9T71"
      },
      "source": [
        "def filter(label, count):\n",
        "    imgs = train_images[np.argwhere(train_labels == label)[:count, ..., 0]].transpose((1,0,2)).reshape((28,-1))\n",
        "    plt.imshow(imgs)\n",
        "    plt.show"
      ],
      "execution_count": 8,
      "outputs": []
    },
    {
      "cell_type": "code",
      "metadata": {
        "colab": {
          "base_uri": "https://localhost:8080/",
          "height": 85
        },
        "id": "wjeI9Gqh9g6k",
        "outputId": "a92e22f5-8aa7-431a-fad2-0c2fceac0274"
      },
      "source": [
        "filter(2, 10)"
      ],
      "execution_count": 49,
      "outputs": [
        {
          "output_type": "display_data",
          "data": {
            "image/png": "[encoded data removed]",
            "text/plain": [
              "<Figure size 432x288 with 1 Axes>"
            ]
          },
          "metadata": {
            "needs_background": "light"
          }
        }
      ]
    },
    {
      "cell_type": "code",
      "metadata": {
        "colab": {
          "base_uri": "https://localhost:8080/",
          "height": 134
        },
        "id": "TbBpyB1O9jep",
        "outputId": "4833b54d-79d0-4e4d-dab1-8ad572aaa54d"
      },
      "source": [
        "filter(4, 4)"
      ],
      "execution_count": 50,
      "outputs": [
        {
          "output_type": "display_data",
          "data": {
            "image/png": "[encoded data removed]",
            "text/plain": [
              "<Figure size 432x288 with 1 Axes>"
            ]
          },
          "metadata": {
            "needs_background": "light"
          }
        }
      ]
    },
    {
      "cell_type": "markdown",
      "metadata": {
        "id": "Kz3kWteP8Kap"
      },
      "source": [
        "## Step 4. Data augmentation - 이미지 확대 및 다객체 추가 방법"
      ]
    },
    {
      "cell_type": "markdown",
      "metadata": {
        "id": "fesKKJqio--a"
      },
      "source": [
        "### 문제 15. 이미지 한장의 크기를 4배로 확대하고, 객체는 4분면 영역중 랜덤으로 1공간에 넣는 함수를 작성하여보세요."
      ]
    },
    {
      "cell_type": "code",
      "metadata": {
        "id": "Jsmh1keWpODx"
      },
      "source": [
        "# 이미지 한장의 크기를 4배로 확대하고, 객체는 4분면 영역중 랜덤으로 1공간에 넣는 함수를 작성하여보세요.\n",
        "\n",
        "def expand_4times(img):\n",
        "    bg = np.zeros(img.shape)\n",
        "    idx = np.random.randint(0,4)\n",
        "\n",
        "    slots = [bg, bg, bg, bg]\n",
        "    slots[idx] = img\n",
        "    expanded = np.vstack([\n",
        "                          np.hstack(slots[:2]),\n",
        "                          np.hstack(slots[2:])\n",
        "    ])\n",
        "    return expanded"
      ],
      "execution_count": 9,
      "outputs": []
    },
    {
      "cell_type": "code",
      "metadata": {
        "colab": {
          "base_uri": "https://localhost:8080/",
          "height": 288
        },
        "id": "WZOCM36MCihb",
        "outputId": "90a3f856-f453-4a54-87bd-623606347a70"
      },
      "source": [
        "plt.imshow(train_images[1])\n",
        "plt.colorbar()"
      ],
      "execution_count": 58,
      "outputs": [
        {
          "output_type": "execute_result",
          "data": {
            "text/plain": [
              "<matplotlib.colorbar.Colorbar at 0x7f01825ebd10>"
            ]
          },
          "metadata": {},
          "execution_count": 58
        },
        {
          "output_type": "display_data",
          "data": {
            "image/png": "[encoded data removed]",
            "text/plain": [
              "<Figure size 432x288 with 2 Axes>"
            ]
          },
          "metadata": {
            "needs_background": "light"
          }
        }
      ]
    },
    {
      "cell_type": "code",
      "metadata": {
        "colab": {
          "base_uri": "https://localhost:8080/",
          "height": 288
        },
        "id": "Ga4SfHibCR17",
        "outputId": "7b93041a-ae71-409d-ac27-16d2cacdaa0b"
      },
      "source": [
        "plt.imshow(expand_4times(train_images[1]))\n",
        "plt.colorbar()"
      ],
      "execution_count": 60,
      "outputs": [
        {
          "output_type": "execute_result",
          "data": {
            "text/plain": [
              "<matplotlib.colorbar.Colorbar at 0x7f0182621a50>"
            ]
          },
          "metadata": {},
          "execution_count": 60
        },
        {
          "output_type": "display_data",
          "data": {
            "image/png": "[encoded data removed]",
            "text/plain": [
              "<Figure size 432x288 with 2 Axes>"
            ]
          },
          "metadata": {
            "needs_background": "light"
          }
        }
      ]
    },
    {
      "cell_type": "markdown",
      "metadata": {
        "id": "LW3qolQPtpCA"
      },
      "source": [
        "### 문제 16. 4배 이미지 변환을 전체 train/test 데이터에 실행하여 train_expand_images, test_expand_images를 생성하세요."
      ]
    },
    {
      "cell_type": "code",
      "metadata": {
        "id": "lUNMTYsTt4RX"
      },
      "source": [
        "# 4배 이미지 변환을 전체 train/test 데이터에 실행하여 train_expend_images, test_expend_images를 생성하세요.\n",
        "train_expand_images = np.array([expand_4times(img) for img in train_images])\n",
        "test_expand_images = np.array([expand_4times(img) for img in test_images])"
      ],
      "execution_count": 10,
      "outputs": []
    },
    {
      "cell_type": "code",
      "metadata": {
        "colab": {
          "base_uri": "https://localhost:8080/"
        },
        "id": "LyjNqMweDu9a",
        "outputId": "527e1eac-83a9-4f3b-d4a9-511fd6a24048"
      },
      "source": [
        "print(test_expand_images.shape, train_expand_images.shape)\n",
        "print(test_expand_images.dtype, train_expand_images.dtype)\n",
        "\n",
        "print(test_expand_images.min(), train_expand_images.min())\n",
        "print(test_expand_images.max(), train_expand_images.max())\n"
      ],
      "execution_count": 62,
      "outputs": [
        {
          "output_type": "stream",
          "name": "stdout",
          "text": [
            "(10000, 56, 56) (60000, 56, 56)\n",
            "float64 float64\n",
            "0.0 0.0\n",
            "1.0 1.0\n"
          ]
        }
      ]
    },
    {
      "cell_type": "markdown",
      "metadata": {
        "id": "_1NMpB6LqIB5"
      },
      "source": [
        "### 문제 17. 4배 이미지 변환 함수를 수정하여 이미지 사이즈를 4배 확대 시킨 뒤, 객체를 랜덤으로 0~4개, 랜덤 4분면에 위치시키는 함수를 작성하세요."
      ]
    },
    {
      "cell_type": "code",
      "metadata": {
        "id": "U9-NlbEhqhCx"
      },
      "source": [
        "# 4배 이미지 변환 함수를 수정하여 이미지 사이즈를 4배 확대 시킨 뒤, 객체를 랜덤으로 1~4개, 랜덤 4분면에 위치시키는 함수를 작성하세요.\n",
        "def expand_4times2(x_data, y_data):\n",
        "    images = []\n",
        "    labels = []\n",
        "\n",
        "    for _ in range(4):\n",
        "        bg = np.zeros((28, 28))\n",
        "        obj_count = np.random.randint(0, 5)\n",
        "\n",
        "        label = np.zeros((10,)) # [0,0,0,0,0,0,0 ...]\n",
        "        slots = [bg, bg, bg, bg]\n",
        "\n",
        "        for idx in range(obj_count):\n",
        "            i = np.random.randint(len(x_data))\n",
        "            slots[idx] = x_data[i]\n",
        "            label += tf.keras.utils.to_categorical(y_data[i], 10)\n",
        "            \n",
        "        np.random.shuffle(slots)\n",
        "\n",
        "    new_img = np.vstack([\n",
        "                          np.hstack(slots[:2]),\n",
        "                          np.hstack(slots[2:])\n",
        "    ])\n",
        "    images.append(new_img)\n",
        "    labels.append((label >= 1 ).astype(np.int))    \n",
        "    return np.array(images), np.array(labels)"
      ],
      "execution_count": 11,
      "outputs": []
    },
    {
      "cell_type": "code",
      "metadata": {
        "colab": {
          "base_uri": "https://localhost:8080/",
          "height": 286
        },
        "id": "bYl9B-8sG1Hu",
        "outputId": "b87e8773-32f2-4e80-a522-df15dd7b4d9a"
      },
      "source": [
        "plt.imshow(  expand_4times2(train_images, train_labels)[0][0]  )"
      ],
      "execution_count": 78,
      "outputs": [
        {
          "output_type": "execute_result",
          "data": {
            "text/plain": [
              "<matplotlib.image.AxesImage at 0x7f01812387d0>"
            ]
          },
          "metadata": {},
          "execution_count": 78
        },
        {
          "output_type": "display_data",
          "data": {
            "image/png": "[encoded data removed]",
            "text/plain": [
              "<Figure size 432x288 with 1 Axes>"
            ]
          },
          "metadata": {
            "needs_background": "light"
          }
        }
      ]
    },
    {
      "cell_type": "code",
      "metadata": {
        "colab": {
          "base_uri": "https://localhost:8080/"
        },
        "id": "FiYG5iizIFza",
        "outputId": "753f6660-c9be-43b7-ccc0-a928656601d2"
      },
      "source": [
        "expand_4times2(train_images, train_labels)[1]"
      ],
      "execution_count": 76,
      "outputs": [
        {
          "output_type": "execute_result",
          "data": {
            "text/plain": [
              "array([[0, 0, 0, 1, 1, 0, 0, 1, 0, 0]])"
            ]
          },
          "metadata": {},
          "execution_count": 76
        }
      ]
    },
    {
      "cell_type": "markdown",
      "metadata": {
        "id": "JLSYLZr0qvGI"
      },
      "source": [
        "### 문제 18. 4배 이미지 변환을 전체 train/test 데이터에 실행하여 train_multi_images, test_multi_images, train_multi_labels, train_multi_labels를 생성하세요."
      ]
    },
    {
      "cell_type": "code",
      "metadata": {
        "id": "EsgmHRFSrDX4"
      },
      "source": [
        "# 4배 이미지 변환을 전체 train/test 데이터에 실행하여 train_multi_images, test_multi_images, train_multi_labels, train_multi_labels를 생성하세요.\n",
        "train_multi_images, train_multi_labels = list(zip(*[expand_4times2(train_images, train_labels) for i in train_images]))\n",
        "test_multi_images, test_multi_labels = list(zip(*[expand_4times2(test_images, test_labels) for i in test_images]))"
      ],
      "execution_count": 12,
      "outputs": []
    },
    {
      "cell_type": "code",
      "metadata": {
        "id": "WN0zO1ZvI1x8"
      },
      "source": [
        "train_multi_images = np.array(train_multi_images)[:, 0, :, :].reshape(-1, 56, 56, 1)\n",
        "train_multi_labels = np.array(train_multi_labels)[:, 0, :]\n",
        "\n",
        "test_multi_images = np.array(test_multi_images)[:, 0, :, :].reshape(-1, 56, 56, 1)\n",
        "test_multi_labels = np.array(test_multi_labels)[:, 0, :]\n"
      ],
      "execution_count": 13,
      "outputs": []
    },
    {
      "cell_type": "code",
      "metadata": {
        "colab": {
          "base_uri": "https://localhost:8080/"
        },
        "id": "t62hItmvJsmJ",
        "outputId": "d7266aef-22ca-4051-e14e-154253f80413"
      },
      "source": [
        "print(train_multi_images.shape, train_multi_labels.shape)\n",
        "print(test_multi_images.shape, test_multi_labels.shape)"
      ],
      "execution_count": 81,
      "outputs": [
        {
          "output_type": "stream",
          "name": "stdout",
          "text": [
            "(60000, 56, 56, 1) (60000, 10)\n",
            "(10000, 56, 56, 1) (10000, 10)\n"
          ]
        }
      ]
    },
    {
      "cell_type": "code",
      "metadata": {
        "id": "fMLeRs675OLf"
      },
      "source": [
        "# 개수에 따라 연속된 그림을 보여주는 함수를 작성해보세요\n",
        "def filter2(obj_count, count = 5):\n",
        "    labels = train_multi_labels.sum(axis=1)\n",
        "    ids = np.argwhere(  labels == obj_count)[:count, 0]\n",
        "\n",
        "    imgs = train_multi_images[ids][...,0] . transpose((1, 0, 2)).reshape((56, -1)) \n",
        "    plt.imshow(imgs)\n",
        "    plt.show()\n",
        "\n"
      ],
      "execution_count": 14,
      "outputs": []
    },
    {
      "cell_type": "code",
      "metadata": {
        "colab": {
          "base_uri": "https://localhost:8080/",
          "height": 118
        },
        "id": "KUa47fHdKoPp",
        "outputId": "c2aa19e3-75e8-49c7-8a87-e3a58a7e4f91"
      },
      "source": [
        "filter2(1, 5)"
      ],
      "execution_count": 83,
      "outputs": [
        {
          "output_type": "display_data",
          "data": {
            "image/png": "[encoded data removed]",
            "text/plain": [
              "<Figure size 432x288 with 1 Axes>"
            ]
          },
          "metadata": {
            "needs_background": "light"
          }
        }
      ]
    },
    {
      "cell_type": "markdown",
      "metadata": {
        "id": "nWy8FKR1AYJU"
      },
      "source": [
        "### 문제 19. multi labels와 train_labels의 값의 형태를 비교해보세요."
      ]
    },
    {
      "cell_type": "code",
      "metadata": {
        "id": "ENpSWYu_stHp",
        "colab": {
          "base_uri": "https://localhost:8080/"
        },
        "outputId": "2d112c44-dbe4-4c3a-c704-b7c54ecb4e9a"
      },
      "source": [
        "# multi labels와 train_labels의 값의 형태를 비교해보세요.\n",
        "train_labels[0]"
      ],
      "execution_count": 84,
      "outputs": [
        {
          "output_type": "execute_result",
          "data": {
            "text/plain": [
              "9"
            ]
          },
          "metadata": {},
          "execution_count": 84
        }
      ]
    },
    {
      "cell_type": "code",
      "metadata": {
        "colab": {
          "base_uri": "https://localhost:8080/"
        },
        "id": "emxWyftSLi-j",
        "outputId": "537e2fe5-2933-40ca-e630-712f6ecc549d"
      },
      "source": [
        "tf.keras.utils.to_categorical(train_labels[0], 10)"
      ],
      "execution_count": 15,
      "outputs": [
        {
          "output_type": "execute_result",
          "data": {
            "text/plain": [
              "array([0., 0., 0., 0., 0., 0., 0., 0., 0., 1.], dtype=float32)"
            ]
          },
          "metadata": {},
          "execution_count": 15
        }
      ]
    },
    {
      "cell_type": "code",
      "metadata": {
        "colab": {
          "base_uri": "https://localhost:8080/"
        },
        "id": "IrcScUmNLo8z",
        "outputId": "6c9ead86-2a05-413e-a1f3-bedd7d9242aa"
      },
      "source": [
        "train_multi_labels[2]"
      ],
      "execution_count": 86,
      "outputs": [
        {
          "output_type": "execute_result",
          "data": {
            "text/plain": [
              "array([0, 0, 0, 0, 0, 1, 0, 0, 0, 0])"
            ]
          },
          "metadata": {},
          "execution_count": 86
        }
      ]
    },
    {
      "cell_type": "markdown",
      "metadata": {
        "id": "_QLtKR5LafGc"
      },
      "source": [
        "### 문제 20. train_labels에서 label들의 분포를 구해보세요."
      ]
    },
    {
      "cell_type": "code",
      "metadata": {
        "id": "1EFMt2SKafGc",
        "colab": {
          "base_uri": "https://localhost:8080/",
          "height": 284
        },
        "outputId": "ca55b150-fe96-4368-f25e-03beb33cb5ba"
      },
      "source": [
        "# 문제 20. train_labels에서 label들의 분포를 히스토그램으로 구해보세요.\n",
        "plt.bar ([0, 1,2,3,4,5,6,7,8,9], tf.keras.utils.to_categorical(train_labels).sum(axis=0))"
      ],
      "execution_count": 87,
      "outputs": [
        {
          "output_type": "execute_result",
          "data": {
            "text/plain": [
              "<BarContainer object of 10 artists>"
            ]
          },
          "metadata": {},
          "execution_count": 87
        },
        {
          "output_type": "display_data",
          "data": {
            "image/png": "[encoded data removed]",
            "text/plain": [
              "<Figure size 432x288 with 1 Axes>"
            ]
          },
          "metadata": {
            "needs_background": "light"
          }
        }
      ]
    },
    {
      "cell_type": "markdown",
      "metadata": {
        "id": "fTvy4VmfYFM5"
      },
      "source": [
        "### 문제 21. multi labels에서 label들의 분포와  multi images에서 평균 사진 개수 분포를 구하세요."
      ]
    },
    {
      "cell_type": "code",
      "metadata": {
        "id": "IFzHUcyBB84T",
        "colab": {
          "base_uri": "https://localhost:8080/",
          "height": 284
        },
        "outputId": "185469bc-1e15-4a9a-d61a-4ae81752284c"
      },
      "source": [
        "# 문제 21. multi labels에서 label들의 분포를 히스토그램으로 구해보세요.\n",
        "\n",
        "plt.bar ([0, 1,2,3,4,5,6,7,8,9], train_multi_labels.sum(axis=0))"
      ],
      "execution_count": 88,
      "outputs": [
        {
          "output_type": "execute_result",
          "data": {
            "text/plain": [
              "<BarContainer object of 10 artists>"
            ]
          },
          "metadata": {},
          "execution_count": 88
        },
        {
          "output_type": "display_data",
          "data": {
            "image/png": "[encoded data removed]",
            "text/plain": [
              "<Figure size 432x288 with 1 Axes>"
            ]
          },
          "metadata": {
            "needs_background": "light"
          }
        }
      ]
    },
    {
      "cell_type": "code",
      "metadata": {
        "id": "rqYMbI6jyPkn",
        "colab": {
          "base_uri": "https://localhost:8080/",
          "height": 340
        },
        "outputId": "fb26bf28-d8d2-4126-a639-dbb80294df1a"
      },
      "source": [
        "# 문제 22. multi images에서 평균 사진 개수 분포를 구하세요\n",
        "plt.hist(train_multi_labels.sum(axis=1))"
      ],
      "execution_count": 89,
      "outputs": [
        {
          "output_type": "execute_result",
          "data": {
            "text/plain": [
              "(array([12008.,     0., 13255.,     0.,     0., 14949.,     0., 13713.,\n",
              "            0.,  6075.]),\n",
              " array([0. , 0.4, 0.8, 1.2, 1.6, 2. , 2.4, 2.8, 3.2, 3.6, 4. ]),\n",
              " <a list of 10 Patch objects>)"
            ]
          },
          "metadata": {},
          "execution_count": 89
        },
        {
          "output_type": "display_data",
          "data": {
            "image/png": "[encoded data removed]",
            "text/plain": [
              "<Figure size 432x288 with 1 Axes>"
            ]
          },
          "metadata": {
            "needs_background": "light"
          }
        }
      ]
    },
    {
      "cell_type": "markdown",
      "metadata": {
        "id": "z67dTPu0xJSu"
      },
      "source": [
        "## Step 5. 모델링"
      ]
    },
    {
      "cell_type": "markdown",
      "metadata": {
        "id": "20iJHg2gXrC2"
      },
      "source": [
        "### 문제 22. train_expand_images, train_labels로 초벌 모델을 생성해보세요."
      ]
    },
    {
      "cell_type": "code",
      "metadata": {
        "id": "1Q1XtFoxX0eN"
      },
      "source": [
        "# train_expand_images, train_labels로 싱글 label을 처리하는 image classification 초벌 모델을 생성해보세요.\n",
        "# keras 모델 만들기(/w Transfer Learning)\n",
        "# Conv2D + MaxPool2D + Dropout\n",
        "# Conv2D + MaxPool2D + Dropout\n",
        "# Conv2D + MaxPool2D + Flatten + Dense\n",
        "\n",
        "from keras.layers import Input, Conv2D, MaxPool2D, Dropout, Dense, Flatten, GlobalAvgPool2D\n",
        "from keras.models import Model\n",
        "\n",
        "def single_fashion_mnist_model():\n",
        "    inputs = Input((56, 56, 1))\n",
        "    x = Conv2D(16, 2, padding=\"same\", activation=\"relu\")(inputs)\n",
        "    x = MaxPool2D(2)(x)\n",
        "    x = Dropout(0.3)(x)\n",
        "\n",
        "    x = Conv2D(32, 2, padding=\"same\", activation=\"relu\")(x)\n",
        "    x = MaxPool2D(2)(x)\n",
        "    x = Dropout(0.3)(x)\n",
        "\n",
        "    x = Conv2D(64, 2, padding=\"same\", activation=\"relu\")(x)\n",
        "    x = MaxPool2D(2)(x)\n",
        "    x = Flatten()(x)\n",
        "    x = Dense(10, activation=\"softmax\")(x)\n",
        "\n",
        "    return Model(inputs, x)"
      ],
      "execution_count": 15,
      "outputs": []
    },
    {
      "cell_type": "code",
      "metadata": {
        "id": "QKgHDNvuPgtP"
      },
      "source": [
        "def single_fashion_mnist_model2():\n",
        "    inputs = Input((56, 56, 1))\n",
        "    x = Conv2D(16, 2, padding=\"same\", activation=\"relu\")(inputs)\n",
        "    x = MaxPool2D(2)(x)\n",
        "    x = Dropout(0.3)(x)\n",
        "\n",
        "    x = Conv2D(32, 2, padding=\"same\", activation=\"relu\")(x)\n",
        "    x = MaxPool2D(2)(x)\n",
        "    x = Dropout(0.3)(x)\n",
        "\n",
        "    x = Conv2D(64, 2, padding=\"same\", activation=\"relu\")(x)\n",
        "    x = MaxPool2D(2)(x)\n",
        "    # 최근에 Flatten 보다 GlobalPooling 많이 씀. 시각화에 유효.\n",
        "    x = GlobalAvgPool2D()(x)\n",
        "    x = Dense(10, activation=\"softmax\")(x)\n",
        "    return Model(inputs, x)"
      ],
      "execution_count": 12,
      "outputs": []
    },
    {
      "cell_type": "markdown",
      "metadata": {
        "id": "zeALYpCGjHlJ"
      },
      "source": [
        "### 문제 23. 모델을 할당 받고 서머리를 출력해보세요."
      ]
    },
    {
      "cell_type": "code",
      "metadata": {
        "id": "Tc4Xiq7IjVaI",
        "colab": {
          "base_uri": "https://localhost:8080/"
        },
        "outputId": "3da12502-7997-4c5b-ff9e-1bd67dbf5dec"
      },
      "source": [
        "# single_fashin_mnist_model() 모델을 할당 받고 서머리를 출력하는 코드를 작성하세요.\n",
        "model = single_fashion_mnist_model()\n",
        "model.summary()"
      ],
      "execution_count": 16,
      "outputs": [
        {
          "output_type": "stream",
          "name": "stdout",
          "text": [
            "Model: \"model_3\"\n",
            "_________________________________________________________________\n",
            " Layer (type)                Output Shape              Param #   \n",
            "=================================================================\n",
            " input_6 (InputLayer)        [(None, 56, 56, 1)]       0         \n",
            "                                                                 \n",
            " conv2d_13 (Conv2D)          (None, 56, 56, 16)        80        \n",
            "                                                                 \n",
            " max_pooling2d_13 (MaxPoolin  (None, 28, 28, 16)       0         \n",
            " g2D)                                                            \n",
            "                                                                 \n",
            " dropout_8 (Dropout)         (None, 28, 28, 16)        0         \n",
            "                                                                 \n",
            " conv2d_14 (Conv2D)          (None, 28, 28, 32)        2080      \n",
            "                                                                 \n",
            " max_pooling2d_14 (MaxPoolin  (None, 14, 14, 32)       0         \n",
            " g2D)                                                            \n",
            "                                                                 \n",
            " dropout_9 (Dropout)         (None, 14, 14, 32)        0         \n",
            "                                                                 \n",
            " conv2d_15 (Conv2D)          (None, 14, 14, 64)        8256      \n",
            "                                                                 \n",
            " max_pooling2d_15 (MaxPoolin  (None, 7, 7, 64)         0         \n",
            " g2D)                                                            \n",
            "                                                                 \n",
            " flatten_1 (Flatten)         (None, 3136)              0         \n",
            "                                                                 \n",
            " dense_3 (Dense)             (None, 8)                 25096     \n",
            "                                                                 \n",
            "=================================================================\n",
            "Total params: 35,512\n",
            "Trainable params: 35,512\n",
            "Non-trainable params: 0\n",
            "_________________________________________________________________\n"
          ]
        }
      ]
    },
    {
      "cell_type": "code",
      "metadata": {
        "colab": {
          "base_uri": "https://localhost:8080/"
        },
        "id": "afzPZg55P-HE",
        "outputId": "d51231c4-9194-4390-a53b-b56f8f13942c"
      },
      "source": [
        "model = single_fashion_mnist_model2()\n",
        "model.summary()"
      ],
      "execution_count": 14,
      "outputs": [
        {
          "output_type": "stream",
          "name": "stdout",
          "text": [
            "Model: \"model_2\"\n",
            "_________________________________________________________________\n",
            " Layer (type)                Output Shape              Param #   \n",
            "=================================================================\n",
            " input_5 (InputLayer)        [(None, 56, 56, 1)]       0         \n",
            "                                                                 \n",
            " conv2d_10 (Conv2D)          (None, 56, 56, 16)        80        \n",
            "                                                                 \n",
            " max_pooling2d_10 (MaxPoolin  (None, 28, 28, 16)       0         \n",
            " g2D)                                                            \n",
            "                                                                 \n",
            " dropout_6 (Dropout)         (None, 28, 28, 16)        0         \n",
            "                                                                 \n",
            " conv2d_11 (Conv2D)          (None, 28, 28, 32)        2080      \n",
            "                                                                 \n",
            " max_pooling2d_11 (MaxPoolin  (None, 14, 14, 32)       0         \n",
            " g2D)                                                            \n",
            "                                                                 \n",
            " dropout_7 (Dropout)         (None, 14, 14, 32)        0         \n",
            "                                                                 \n",
            " conv2d_12 (Conv2D)          (None, 14, 14, 64)        8256      \n",
            "                                                                 \n",
            " max_pooling2d_12 (MaxPoolin  (None, 7, 7, 64)         0         \n",
            " g2D)                                                            \n",
            "                                                                 \n",
            " global_average_pooling2d_1   (None, 64)               0         \n",
            " (GlobalAveragePooling2D)                                        \n",
            "                                                                 \n",
            " dense_2 (Dense)             (None, 10)                650       \n",
            "                                                                 \n",
            "=================================================================\n",
            "Total params: 11,066\n",
            "Trainable params: 11,066\n",
            "Non-trainable params: 0\n",
            "_________________________________________________________________\n"
          ]
        }
      ]
    },
    {
      "cell_type": "markdown",
      "metadata": {
        "id": "PkOrDR1yam4a"
      },
      "source": [
        "### 문제 24. 만든 모델에 로스와 옵티마이저, 메트릭을 설정하세요."
      ]
    },
    {
      "cell_type": "code",
      "metadata": {
        "id": "nufi0CMyazsF"
      },
      "source": [
        "# 만든 모델에 loss는 categorical_crossentropy, optimizer는 adam 매트릭은 accuracy으로 설정하는 코드를 작성하세요.\n",
        "model.compile(loss=\"categorical_crossentropy\", optimizer=\"adam\", metrics=['accuracy'])"
      ],
      "execution_count": null,
      "outputs": []
    },
    {
      "cell_type": "markdown",
      "metadata": {
        "id": "IZRqZC50ZoaE"
      },
      "source": [
        "### 문제 25. 만든 모델에 train_expand_images를 학습시켜 보세요."
      ]
    },
    {
      "cell_type": "code",
      "metadata": {
        "id": "PtpJp3fmaRuA",
        "colab": {
          "base_uri": "https://localhost:8080/"
        },
        "outputId": "52728920-789f-4674-b1b4-177ed817c857"
      },
      "source": [
        "# train_expand_images, train_labels을 학습시키고 15 epochs을 돌리고 그 진행 사항을 hist에 저장하는 코드를 작성하세요.\n",
        "hist = model.fit(train_expand_images.reshape((-1,56,56,1)),\n",
        "                 tf.keras.utils.to_categorical(train_labels, 10),\n",
        "\n",
        "                 validation_data = (test_expand_images.reshape((-1,56,56,1)), tf.keras.utils.to_categorical(test_labels, 10)),\n",
        "                 epochs = 15,\n",
        "                 verbose = 1\n",
        "                 )"
      ],
      "execution_count": null,
      "outputs": [
        {
          "output_type": "stream",
          "text": [
            "Epoch 1/15\n",
            "1875/1875 [==============================] - 14s 4ms/step - loss: 1.7862 - accuracy: 0.3300 - val_loss: 1.0850 - val_accuracy: 0.6178\n",
            "Epoch 2/15\n",
            "1875/1875 [==============================] - 7s 4ms/step - loss: 1.0271 - accuracy: 0.6301 - val_loss: 0.8948 - val_accuracy: 0.6852\n",
            "Epoch 3/15\n",
            "1875/1875 [==============================] - 7s 4ms/step - loss: 0.8768 - accuracy: 0.6823 - val_loss: 0.7474 - val_accuracy: 0.7352\n",
            "Epoch 4/15\n",
            "1875/1875 [==============================] - 7s 4ms/step - loss: 0.7873 - accuracy: 0.7126 - val_loss: 0.7272 - val_accuracy: 0.7331\n",
            "Epoch 5/15\n",
            "1875/1875 [==============================] - 7s 4ms/step - loss: 0.7246 - accuracy: 0.7342 - val_loss: 0.6619 - val_accuracy: 0.7541\n",
            "Epoch 6/15\n",
            "1875/1875 [==============================] - 7s 4ms/step - loss: 0.6860 - accuracy: 0.7501 - val_loss: 0.6279 - val_accuracy: 0.7752\n",
            "Epoch 7/15\n",
            "1875/1875 [==============================] - 7s 4ms/step - loss: 0.6609 - accuracy: 0.7600 - val_loss: 0.5962 - val_accuracy: 0.7892\n",
            "Epoch 8/15\n",
            "1875/1875 [==============================] - 7s 4ms/step - loss: 0.6300 - accuracy: 0.7722 - val_loss: 0.6121 - val_accuracy: 0.7859\n",
            "Epoch 9/15\n",
            "1875/1875 [==============================] - 7s 4ms/step - loss: 0.6161 - accuracy: 0.7783 - val_loss: 0.5769 - val_accuracy: 0.7941\n",
            "Epoch 10/15\n",
            "1875/1875 [==============================] - 7s 4ms/step - loss: 0.6004 - accuracy: 0.7838 - val_loss: 0.5661 - val_accuracy: 0.8004\n",
            "Epoch 11/15\n",
            "1875/1875 [==============================] - 7s 4ms/step - loss: 0.5892 - accuracy: 0.7854 - val_loss: 0.5719 - val_accuracy: 0.7959\n",
            "Epoch 12/15\n",
            "1875/1875 [==============================] - 7s 4ms/step - loss: 0.5801 - accuracy: 0.7902 - val_loss: 0.5385 - val_accuracy: 0.8093\n",
            "Epoch 13/15\n",
            "1875/1875 [==============================] - 7s 4ms/step - loss: 0.5642 - accuracy: 0.7957 - val_loss: 0.5376 - val_accuracy: 0.8107\n",
            "Epoch 14/15\n",
            "1875/1875 [==============================] - 7s 4ms/step - loss: 0.5513 - accuracy: 0.8028 - val_loss: 0.5243 - val_accuracy: 0.8134\n",
            "Epoch 15/15\n",
            "1875/1875 [==============================] - 7s 4ms/step - loss: 0.5447 - accuracy: 0.8039 - val_loss: 0.5099 - val_accuracy: 0.8221\n"
          ],
          "name": "stdout"
        }
      ]
    },
    {
      "cell_type": "markdown",
      "metadata": {
        "id": "hU3-Lm7Ma_97"
      },
      "source": [
        "### 문제 26. 학습 진행 사항을 출력하세요."
      ]
    },
    {
      "cell_type": "code",
      "metadata": {
        "id": "B6pKz5o3bPIT",
        "colab": {
          "base_uri": "https://localhost:8080/",
          "height": 265
        },
        "outputId": "0a5fb55f-d145-4625-d484-2a6c611b2a58"
      },
      "source": [
        "# hist의 accuracy plt의 plot을 이용하여 출력하는 코드를 작성하세요.\n",
        "plt.plot(hist.history['accuracy'], label='accuracy')\n",
        "plt.plot(hist.history['loss'], label='loss')\n",
        "plt.plot(hist.history['val_accuracy'], label='val_accuracy')\n",
        "plt.plot(hist.history['val_loss'], label='val_loss')\n",
        "plt.legend(loc='upper left')\n",
        "plt.show()"
      ],
      "execution_count": null,
      "outputs": [
        {
          "output_type": "display_data",
          "data": {
            "image/png": "[encoded data removed]",
            "text/plain": [
              "<Figure size 432x288 with 1 Axes>"
            ]
          },
          "metadata": {
            "tags": [],
            "needs_background": "light"
          }
        }
      ]
    },
    {
      "cell_type": "markdown",
      "metadata": {
        "id": "NLdXvBcvDYkm"
      },
      "source": [
        "## Step 6. 결과 확인"
      ]
    },
    {
      "cell_type": "markdown",
      "metadata": {
        "id": "J6nvDS4yOSCD"
      },
      "source": [
        "### 문제 27. 완성된 모델에서 test_expand_images를 1장 넣고 결과를 res 변수에 저정하세요."
      ]
    },
    {
      "cell_type": "code",
      "metadata": {
        "colab": {
          "base_uri": "https://localhost:8080/"
        },
        "id": "_27USH8qSyKz",
        "outputId": "1d42906f-b24d-40ee-987f-75c0c2f3afa5"
      },
      "source": [
        "test_expand_images[0:1].shape"
      ],
      "execution_count": null,
      "outputs": [
        {
          "output_type": "execute_result",
          "data": {
            "text/plain": [
              "(1, 56, 56)"
            ]
          },
          "metadata": {
            "tags": []
          },
          "execution_count": 221
        }
      ]
    },
    {
      "cell_type": "code",
      "metadata": {
        "id": "uKFAu5z4QRjR",
        "colab": {
          "base_uri": "https://localhost:8080/"
        },
        "outputId": "5d282e8b-a4a8-4fb3-fafc-33de38e3113e"
      },
      "source": [
        "# 모델에  test_expand_images 중 1장을 넣고 결과를 받는 코드를 작성하세요.\n",
        "res = model.predict(test_expand_images[2].reshape(1,56,56,1))\n",
        "res.shape"
      ],
      "execution_count": null,
      "outputs": [
        {
          "output_type": "execute_result",
          "data": {
            "text/plain": [
              "(1, 10)"
            ]
          },
          "metadata": {
            "tags": []
          },
          "execution_count": 239
        }
      ]
    },
    {
      "cell_type": "markdown",
      "metadata": {
        "id": "r-U6Uo2d3cFv"
      },
      "source": [
        "### 문제 28. res의 결과와 실제 label을 비교하고 test_exnpand_images[0]을 plt로 출력하세요."
      ]
    },
    {
      "cell_type": "code",
      "metadata": {
        "id": "E8kp1YTf3kfP",
        "colab": {
          "base_uri": "https://localhost:8080/",
          "height": 283
        },
        "outputId": "40e8e293-8479-48b9-848e-d04f16e76d2d"
      },
      "source": [
        "# res의 결과와 실제 label을 비교하고 test_exnpand_images[0]을 plt로 출력하세요.\n",
        "plt.bar(np.arange(0, 10), tf.keras.utils.to_categorical(test_labels[2], 10), color=\"black\")\n",
        "plt.show()\n",
        "\n",
        "idx2label(test_labels[2])"
      ],
      "execution_count": null,
      "outputs": [
        {
          "output_type": "display_data",
          "data": {
            "image/png": "[encoded data removed]",
            "text/plain": [
              "<Figure size 432x288 with 1 Axes>"
            ]
          },
          "metadata": {
            "tags": [],
            "needs_background": "light"
          }
        },
        {
          "output_type": "execute_result",
          "data": {
            "application/vnd.google.colaboratory.intrinsic+json": {
              "type": "string"
            },
            "text/plain": [
              "'Trouser'"
            ]
          },
          "metadata": {
            "tags": []
          },
          "execution_count": 241
        }
      ]
    },
    {
      "cell_type": "code",
      "metadata": {
        "colab": {
          "base_uri": "https://localhost:8080/",
          "height": 283
        },
        "id": "6wg06vjSTsaG",
        "outputId": "de3490a9-4762-4ec8-d0e0-a0d4c6933924"
      },
      "source": [
        "plt.bar(np.arange(0, 10), res[0], color=\"gray\")\n",
        "plt.show()\n",
        "idx2label(res[0].argmax())"
      ],
      "execution_count": null,
      "outputs": [
        {
          "output_type": "display_data",
          "data": {
            "image/png": "[encoded data removed]",
            "text/plain": [
              "<Figure size 432x288 with 1 Axes>"
            ]
          },
          "metadata": {
            "tags": [],
            "needs_background": "light"
          }
        },
        {
          "output_type": "execute_result",
          "data": {
            "application/vnd.google.colaboratory.intrinsic+json": {
              "type": "string"
            },
            "text/plain": [
              "'Trouser'"
            ]
          },
          "metadata": {
            "tags": []
          },
          "execution_count": 242
        }
      ]
    },
    {
      "cell_type": "code",
      "metadata": {
        "colab": {
          "base_uri": "https://localhost:8080/",
          "height": 285
        },
        "id": "lEaKl_MXT0m7",
        "outputId": "7a39a9a8-9708-40df-ea82-f942b9c0ab62"
      },
      "source": [
        "plt.imshow(test_expand_images[2])"
      ],
      "execution_count": null,
      "outputs": [
        {
          "output_type": "execute_result",
          "data": {
            "text/plain": [
              "<matplotlib.image.AxesImage at 0x7fb146fbc208>"
            ]
          },
          "metadata": {
            "tags": []
          },
          "execution_count": 243
        },
        {
          "output_type": "display_data",
          "data": {
            "image/png": "[encoded data removed]",
            "text/plain": [
              "<Figure size 432x288 with 1 Axes>"
            ]
          },
          "metadata": {
            "tags": [],
            "needs_background": "light"
          }
        }
      ]
    },
    {
      "cell_type": "markdown",
      "metadata": {
        "id": "asN220f5D37P"
      },
      "source": [
        "## Step 7. 멀티 레이블 모델링"
      ]
    },
    {
      "cell_type": "markdown",
      "metadata": {
        "id": "om4GrvBdwNe1"
      },
      "source": [
        "### 문제 29. train_multi_images 와 train_multi_labels를 처리 할 수 있는 모델을 작성하세요."
      ]
    },
    {
      "cell_type": "code",
      "metadata": {
        "id": "UrxLmr-EwaDE"
      },
      "source": [
        "# 기존 모델의 마지막 layer에 변환을 줘서 multi labels을 처리할 수 있는 모델을 작성하세요.\n",
        "def multi_fashin_mnist_model(model):\n",
        "    model.trainable = False\n",
        "    x = model.layers[-2].output\n",
        "    x = Dense(10, activation='sigmoid')(x)\n",
        "    return Model(model.input, x)"
      ],
      "execution_count": null,
      "outputs": []
    },
    {
      "cell_type": "code",
      "metadata": {
        "colab": {
          "base_uri": "https://localhost:8080/"
        },
        "id": "OLEljIUJV6bh",
        "outputId": "d5e5e412-6a88-435f-e426-154983fd1ba0"
      },
      "source": [
        "model.summary()"
      ],
      "execution_count": null,
      "outputs": [
        {
          "output_type": "stream",
          "text": [
            "Model: \"model_3\"\n",
            "_________________________________________________________________\n",
            "Layer (type)                 Output Shape              Param #   \n",
            "=================================================================\n",
            "input_5 (InputLayer)         [(None, 56, 56, 1)]       0         \n",
            "_________________________________________________________________\n",
            "conv2d_10 (Conv2D)           (None, 56, 56, 16)        80        \n",
            "_________________________________________________________________\n",
            "max_pooling2d_9 (MaxPooling2 (None, 28, 28, 16)        0         \n",
            "_________________________________________________________________\n",
            "dropout_6 (Dropout)          (None, 28, 28, 16)        0         \n",
            "_________________________________________________________________\n",
            "conv2d_11 (Conv2D)           (None, 28, 28, 32)        2080      \n",
            "_________________________________________________________________\n",
            "max_pooling2d_10 (MaxPooling (None, 14, 14, 32)        0         \n",
            "_________________________________________________________________\n",
            "dropout_7 (Dropout)          (None, 14, 14, 32)        0         \n",
            "_________________________________________________________________\n",
            "conv2d_12 (Conv2D)           (None, 14, 14, 64)        8256      \n",
            "_________________________________________________________________\n",
            "max_pooling2d_11 (MaxPooling (None, 7, 7, 64)          0         \n",
            "_________________________________________________________________\n",
            "global_average_pooling2d (Gl (None, 64)                0         \n",
            "_________________________________________________________________\n",
            "dense_3 (Dense)              (None, 10)                650       \n",
            "=================================================================\n",
            "Total params: 11,066\n",
            "Trainable params: 11,066\n",
            "Non-trainable params: 0\n",
            "_________________________________________________________________\n"
          ],
          "name": "stdout"
        }
      ]
    },
    {
      "cell_type": "markdown",
      "metadata": {
        "id": "m4LUlqPTwo0a"
      },
      "source": [
        "### 문제 30. 기존 모델을 멀티 모델로 변환하여 모델 서머리를 출력하세요."
      ]
    },
    {
      "cell_type": "code",
      "metadata": {
        "id": "_DMtsyLmwtXY",
        "colab": {
          "base_uri": "https://localhost:8080/"
        },
        "outputId": "ce5f39b0-d40d-4c49-ec74-476992bc9eb2"
      },
      "source": [
        "# 기존 모델을 멀티 모델로 변환하여 모델 서머리를 출력하세요.\n",
        "new_model = multi_fashin_mnist_model(model)\n",
        "new_model.summary()"
      ],
      "execution_count": null,
      "outputs": [
        {
          "output_type": "stream",
          "text": [
            "Model: \"model_7\"\n",
            "_________________________________________________________________\n",
            "Layer (type)                 Output Shape              Param #   \n",
            "=================================================================\n",
            "input_5 (InputLayer)         [(None, 56, 56, 1)]       0         \n",
            "_________________________________________________________________\n",
            "conv2d_10 (Conv2D)           (None, 56, 56, 16)        80        \n",
            "_________________________________________________________________\n",
            "max_pooling2d_9 (MaxPooling2 (None, 28, 28, 16)        0         \n",
            "_________________________________________________________________\n",
            "dropout_6 (Dropout)          (None, 28, 28, 16)        0         \n",
            "_________________________________________________________________\n",
            "conv2d_11 (Conv2D)           (None, 28, 28, 32)        2080      \n",
            "_________________________________________________________________\n",
            "max_pooling2d_10 (MaxPooling (None, 14, 14, 32)        0         \n",
            "_________________________________________________________________\n",
            "dropout_7 (Dropout)          (None, 14, 14, 32)        0         \n",
            "_________________________________________________________________\n",
            "conv2d_12 (Conv2D)           (None, 14, 14, 64)        8256      \n",
            "_________________________________________________________________\n",
            "max_pooling2d_11 (MaxPooling (None, 7, 7, 64)          0         \n",
            "_________________________________________________________________\n",
            "global_average_pooling2d (Gl (None, 64)                0         \n",
            "_________________________________________________________________\n",
            "dense_7 (Dense)              (None, 10)                650       \n",
            "=================================================================\n",
            "Total params: 11,066\n",
            "Trainable params: 650\n",
            "Non-trainable params: 10,416\n",
            "_________________________________________________________________\n"
          ],
          "name": "stdout"
        }
      ]
    },
    {
      "cell_type": "code",
      "metadata": {
        "colab": {
          "base_uri": "https://localhost:8080/"
        },
        "id": "evmpCYFKWp08",
        "outputId": "990cdc66-0a75-4ac5-9b04-5fccf8a32c86"
      },
      "source": [
        "new_model.get_weights()[0]"
      ],
      "execution_count": null,
      "outputs": [
        {
          "output_type": "execute_result",
          "data": {
            "text/plain": [
              "array([[[[ 2.6905641e-01, -1.5730888e-02,  4.2958051e-01,\n",
              "          -2.5675476e-02,  1.5450938e+00,  5.3194153e-01,\n",
              "           2.0046413e+00,  8.1310093e-01,  8.3574581e-01,\n",
              "           1.0619491e+00,  1.0363065e+00, -4.3958721e-01,\n",
              "           1.8570156e+00, -2.6446751e-01,  8.0156147e-01,\n",
              "          -3.6804998e-01]],\n",
              "\n",
              "        [[ 1.8499559e+00, -2.7539524e-01,  6.5520030e-01,\n",
              "          -1.3757174e-01,  1.7246971e+00,  1.8354015e+00,\n",
              "           8.7327582e-01, -1.6961869e+00,  9.9061364e-01,\n",
              "           4.9294168e-01,  3.6222240e-01,  1.1662859e+00,\n",
              "           1.6748590e+00,  1.2969484e+00, -6.7906773e-01,\n",
              "           2.2837712e-01]]],\n",
              "\n",
              "\n",
              "       [[[-2.0870641e-01, -2.2439176e-01, -2.3505041e-01,\n",
              "          -7.2161794e-02, -3.1439311e-04,  3.5326061e-01,\n",
              "           3.9126369e-01,  1.3732642e+00, -8.6355710e-01,\n",
              "           1.4680649e+00, -2.6641486e+00, -8.7411797e-01,\n",
              "           1.0654280e-01,  9.7966105e-01,  8.9144385e-01,\n",
              "           1.9457588e+00]],\n",
              "\n",
              "        [[ 8.0826980e-01, -1.8804146e-01, -6.5267956e-01,\n",
              "          -2.7356023e-01,  5.3852648e-01,  7.6548350e-01,\n",
              "          -3.6717448e-01, -4.6274071e+00, -1.4128526e+00,\n",
              "           1.0776033e+00, -3.3717272e+00,  1.1027237e+00,\n",
              "          -6.8507922e-01,  1.3940430e+00, -8.6831349e-01,\n",
              "           1.4347124e+00]]]], dtype=float32)"
            ]
          },
          "metadata": {
            "tags": []
          },
          "execution_count": 268
        }
      ]
    },
    {
      "cell_type": "code",
      "metadata": {
        "colab": {
          "base_uri": "https://localhost:8080/"
        },
        "id": "dgJaf_zKW-gv",
        "outputId": "dddd7949-043d-4647-c2ee-17affa44d5c1"
      },
      "source": [
        "train_multi_images.shape, train_multi_labels.shape"
      ],
      "execution_count": null,
      "outputs": [
        {
          "output_type": "execute_result",
          "data": {
            "text/plain": [
              "((60000, 56, 56, 1), (60000, 10))"
            ]
          },
          "metadata": {
            "tags": []
          },
          "execution_count": 250
        }
      ]
    },
    {
      "cell_type": "markdown",
      "metadata": {
        "id": "JqPCAn2iw4qM"
      },
      "source": [
        "### 문제 31. 문제 25과 같은 세팅으로 train_multi_images를 학습시키세요."
      ]
    },
    {
      "cell_type": "code",
      "metadata": {
        "id": "diDpP7Wqw3O9"
      },
      "source": [
        "# 문제 25과 같은 세팅으로 train_multi_images를 학습시키세요.\n",
        "new_model.compile(loss=\"categorical_crossentropy\", optimizer=\"adam\", metrics=['accuracy'])\n",
        "hist2 = new_model.fit(train_multi_images,\n",
        "                 train_multi_labels,\n",
        "\n",
        "                 validation_data = (test_multi_images, test_multi_labels),\n",
        "                 epochs = 15,\n",
        "                 verbose = 1\n",
        "                 )"
      ],
      "execution_count": null,
      "outputs": []
    },
    {
      "cell_type": "code",
      "metadata": {
        "colab": {
          "base_uri": "https://localhost:8080/"
        },
        "id": "-gwcHh2TYuLl",
        "outputId": "dd2b721b-9677-44a8-fc94-112a14fce551"
      },
      "source": [
        "epochs = 15\n",
        "batch_size = 32\n",
        "new_model.compile(loss=\"binary_crossentropy\", optimizer=\"adam\", metrics=['accuracy'])\n",
        "for epoch in range(epochs):\n",
        "    for _ in range(0, len(train_images), batch_size):\n",
        "        batch_x = []\n",
        "        batch_y = []\n",
        "\n",
        "        for _ in range(batch_size):\n",
        "            x, y = expand_4times2(train_images, train_labels)\n",
        "            batch_x.append(x)\n",
        "            batch_y.append(y)\n",
        "\n",
        "        batch_x = np.array(batch_x).reshape((-1, 56, 56, 1))\n",
        "        batch_y = np.array(batch_y).reshape((-1, 10))\n",
        "        new_model.train_on_batch(batch_x, batch_y)\n",
        "    print(epoch, \"e\")"
      ],
      "execution_count": null,
      "outputs": [
        {
          "output_type": "stream",
          "text": [
            "0 e\n",
            "1 e\n",
            "2 e\n",
            "3 e\n",
            "4 e\n",
            "5 e\n",
            "6 e\n",
            "7 e\n",
            "8 e\n",
            "9 e\n",
            "10 e\n",
            "11 e\n",
            "12 e\n",
            "13 e\n",
            "14 e\n"
          ],
          "name": "stdout"
        }
      ]
    },
    {
      "cell_type": "markdown",
      "metadata": {
        "id": "Gfi5SHaC-Vag"
      },
      "source": [
        "### 문제 32. 완성된 모델에서 test_multi_images를 1장 넣고 결과를 res 변수에 저정한뒤 실제 test_multi_labels와 비교해보세요."
      ]
    },
    {
      "cell_type": "code",
      "metadata": {
        "id": "QKjeOiSZ6Wrr",
        "colab": {
          "base_uri": "https://localhost:8080/"
        },
        "outputId": "7da7d1b8-d7aa-4242-810e-5d5bc6818e46"
      },
      "source": [
        "# 완성된 모델에서 test_multi_images를 1장 넣고 결과를 res 변수에 저정한뒤 실제 test_multi_labels와 비교해보세요.\n",
        "res = new_model.predict(test_multi_images[8].reshape((1,56,56,1)))\n",
        "res.shape"
      ],
      "execution_count": null,
      "outputs": [
        {
          "output_type": "execute_result",
          "data": {
            "text/plain": [
              "(1, 10)"
            ]
          },
          "metadata": {
            "tags": []
          },
          "execution_count": 301
        }
      ]
    },
    {
      "cell_type": "code",
      "metadata": {
        "colab": {
          "base_uri": "https://localhost:8080/",
          "height": 283
        },
        "id": "KiC2NuC9YOqQ",
        "outputId": "7e2b5f99-7275-427d-8385-7f0668be712b"
      },
      "source": [
        "plt.bar(np.arange(0, 10),    test_multi_labels[8], color=\"black\")\n"
      ],
      "execution_count": null,
      "outputs": [
        {
          "output_type": "execute_result",
          "data": {
            "text/plain": [
              "<BarContainer object of 10 artists>"
            ]
          },
          "metadata": {
            "tags": []
          },
          "execution_count": 302
        },
        {
          "output_type": "display_data",
          "data": {
            "image/png": "[encoded data removed]",
            "text/plain": [
              "<Figure size 432x288 with 1 Axes>"
            ]
          },
          "metadata": {
            "tags": [],
            "needs_background": "light"
          }
        }
      ]
    },
    {
      "cell_type": "code",
      "metadata": {
        "colab": {
          "base_uri": "https://localhost:8080/",
          "height": 283
        },
        "id": "sVlBNm59dK0w",
        "outputId": "6292aab2-8c94-4ab9-86ac-8e33ee1135fd"
      },
      "source": [
        "plt.bar(np.arange(0, 10), res[0] > 0.5, color=\"red\")"
      ],
      "execution_count": null,
      "outputs": [
        {
          "output_type": "execute_result",
          "data": {
            "text/plain": [
              "<BarContainer object of 10 artists>"
            ]
          },
          "metadata": {
            "tags": []
          },
          "execution_count": 308
        },
        {
          "output_type": "display_data",
          "data": {
            "image/png": "[encoded data removed]",
            "text/plain": [
              "<Figure size 432x288 with 1 Axes>"
            ]
          },
          "metadata": {
            "tags": [],
            "needs_background": "light"
          }
        }
      ]
    },
    {
      "cell_type": "code",
      "metadata": {
        "colab": {
          "base_uri": "https://localhost:8080/"
        },
        "id": "NA-w_KZ2YkBU",
        "outputId": "182d6f28-3817-4402-c344-d203bbc26e0c"
      },
      "source": [
        "res"
      ],
      "execution_count": null,
      "outputs": [
        {
          "output_type": "execute_result",
          "data": {
            "text/plain": [
              "array([[1., 1., 1., 1., 1., 1., 1., 1., 1., 1.]], dtype=float32)"
            ]
          },
          "metadata": {
            "tags": []
          },
          "execution_count": 256
        }
      ]
    },
    {
      "cell_type": "markdown",
      "metadata": {
        "id": "jEMuwUYP71jb"
      },
      "source": [
        "## Step 8. 모델 저장 및 로드, 다운"
      ]
    },
    {
      "cell_type": "markdown",
      "metadata": {
        "id": "c2GZFvCAzFNl"
      },
      "source": [
        "### 문제 33. 모델을 저장하세요."
      ]
    },
    {
      "cell_type": "code",
      "metadata": {
        "id": "YjuCVTNbriVJ"
      },
      "source": [
        "# 모델을 저장하는 코드를 작성하세요.\n",
        "model.save('./lecture008-multiclass.h5')\n",
        "new_model.save('./lecture008-multilabel.h5')"
      ],
      "execution_count": null,
      "outputs": []
    },
    {
      "cell_type": "markdown",
      "metadata": {
        "id": "Bj4P3DdzzhyC"
      },
      "source": [
        "### 문제 34. 모델 파일을 새로운 모델에 로드하세요."
      ]
    },
    {
      "cell_type": "code",
      "metadata": {
        "id": "xuRAnBR8zY-X",
        "colab": {
          "base_uri": "https://localhost:8080/"
        },
        "outputId": "cb4afbcb-a588-47da-836c-9213a626d820"
      },
      "source": [
        "# 모델을 로드하는 코드를 작성하세요.\n",
        "model2 = tf.keras.models.load_model('./lecture008-multiclass.h5')\n",
        "model3 = tf.keras.models.load_model('./lecture008-multilabel.h5')"
      ],
      "execution_count": null,
      "outputs": [
        {
          "output_type": "stream",
          "text": [
            "WARNING:tensorflow:Error in loading the saved optimizer state. As a result, your model is starting with a freshly initialized optimizer.\n"
          ],
          "name": "stdout"
        }
      ]
    },
    {
      "cell_type": "markdown",
      "metadata": {
        "id": "ta1I5ZEY1FBR"
      },
      "source": [
        "### 문제 35. 로드한 모델을 test 데이터로 평가해보세요.\n"
      ]
    },
    {
      "cell_type": "code",
      "metadata": {
        "id": "ALrVf_lm0_Bc",
        "colab": {
          "base_uri": "https://localhost:8080/"
        },
        "outputId": "311c5e48-23fa-4d4a-8335-27d13754b641"
      },
      "source": [
        "# 로드한 모델을 test 데이터로 평가해보세요.\n",
        "loss, acc = model2.evaluate(test_expand_images.reshape((-1, 56,56, 1)), tf.keras.utils.to_categorical(test_labels))\n",
        "print(loss, acc)"
      ],
      "execution_count": null,
      "outputs": [
        {
          "output_type": "stream",
          "text": [
            "313/313 [==============================] - 1s 3ms/step - loss: 0.5099 - accuracy: 0.8221\n",
            "0.5098886489868164 0.8220999836921692\n"
          ],
          "name": "stdout"
        }
      ]
    },
    {
      "cell_type": "markdown",
      "metadata": {
        "id": "gfEgY1Vr1T1v"
      },
      "source": [
        "### 문제 36. 모델을 내 컴퓨터에 저장해보세요"
      ]
    },
    {
      "cell_type": "code",
      "metadata": {
        "id": "ASkJv_Ui1RGv",
        "colab": {
          "base_uri": "https://localhost:8080/",
          "height": 17
        },
        "outputId": "295a634c-0ef9-4c94-fc50-5506cfae12ef"
      },
      "source": [
        "# 모델을 내 컴퓨터에 저장해보세요.\n",
        "from google.colab import files\n",
        "files.download('./lecture008-multiclass.h5')"
      ],
      "execution_count": null,
      "outputs": [
        {
          "output_type": "display_data",
          "data": {
            "application/javascript": [
              "\n",
              "    async function download(id, filename, size) {\n",
              "      if (!google.colab.kernel.accessAllowed) {\n",
              "        return;\n",
              "      }\n",
              "      const div = document.createElement('div');\n",
              "      const label = document.createElement('label');\n",
              "      label.textContent = `Downloading \"${filename}\": `;\n",
              "      div.appendChild(label);\n",
              "      const progress = document.createElement('progress');\n",
              "      progress.max = size;\n",
              "      div.appendChild(progress);\n",
              "      document.body.appendChild(div);\n",
              "\n",
              "      const buffers = [];\n",
              "      let downloaded = 0;\n",
              "\n",
              "      const channel = await google.colab.kernel.comms.open(id);\n",
              "      // Send a message to notify the kernel that we're ready.\n",
              "      channel.send({})\n",
              "\n",
              "      for await (const message of channel.messages) {\n",
              "        // Send a message to notify the kernel that we're ready.\n",
              "        channel.send({})\n",
              "        if (message.buffers) {\n",
              "          for (const buffer of message.buffers) {\n",
              "            buffers.push(buffer);\n",
              "            downloaded += buffer.byteLength;\n",
              "            progress.value = downloaded;\n",
              "          }\n",
              "        }\n",
              "      }\n",
              "      const blob = new Blob(buffers, {type: 'application/binary'});\n",
              "      const a = document.createElement('a');\n",
              "      a.href = window.URL.createObjectURL(blob);\n",
              "      a.download = filename;\n",
              "      div.appendChild(a);\n",
              "      a.click();\n",
              "      div.remove();\n",
              "    }\n",
              "  "
            ],
            "text/plain": [
              "<IPython.core.display.Javascript object>"
            ]
          },
          "metadata": {
            "tags": []
          }
        },
        {
          "output_type": "display_data",
          "data": {
            "application/javascript": [
              "download(\"download_45de166a-976b-4844-bc28-b2c4ba1b51b3\", \"lecture008-multiclass.h5\", 181896)"
            ],
            "text/plain": [
              "<IPython.core.display.Javascript object>"
            ]
          },
          "metadata": {
            "tags": []
          }
        }
      ]
    },
    {
      "cell_type": "code",
      "metadata": {
        "id": "lJm9QRGXTS-K"
      },
      "source": [
        ""
      ],
      "execution_count": null,
      "outputs": []
    }
  ]
}