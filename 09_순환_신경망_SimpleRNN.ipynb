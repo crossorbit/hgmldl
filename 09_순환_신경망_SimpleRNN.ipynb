{
  "nbformat": 4,
  "nbformat_minor": 0,
  "metadata": {
    "colab": {
      "name": "09 순환 신경망_SimpleRNN.ipynb",
      "provenance": [],
      "authorship_tag": "ABX9TyP04V4F3K3fLb+tbVTmdzao",
      "include_colab_link": true
    },
    "kernelspec": {
      "name": "python3",
      "display_name": "Python 3"
    },
    "language_info": {
      "name": "python"
    }
  },
  "cells": [
    {
      "cell_type": "markdown",
      "metadata": {
        "id": "view-in-github",
        "colab_type": "text"
      },
      "source": [
        "<a href=\"https://colab.research.google.com/github/crossorbit/hgmldl/blob/master/09_%EC%88%9C%ED%99%98_%EC%8B%A0%EA%B2%BD%EB%A7%9D_SimpleRNN.ipynb\" target=\"_parent\"><img src=\"https://colab.research.google.com/assets/colab-badge.svg\" alt=\"Open In Colab\"/></a>"
      ]
    },
    {
      "cell_type": "code",
      "metadata": {
        "id": "f_Ki8Q6mrJlP",
        "colab": {
          "base_uri": "https://localhost:8080/"
        },
        "outputId": "223f0231-73fb-4862-e233-f33d590a6046"
      },
      "source": [
        "# 간단히 하기 위해 num_words는 500으로 제한\n",
        "from tensorflow.keras.datasets import imdb\n",
        "\n",
        "(train_input, train_target), (test_input, test_target) = imdb.load_data(\n",
        "    num_words=500)\n"
      ],
      "execution_count": 1,
      "outputs": [
        {
          "output_type": "stream",
          "name": "stdout",
          "text": [
            "Downloading data from https://storage.googleapis.com/tensorflow/tf-keras-datasets/imdb.npz\n",
            "17465344/17464789 [==============================] - 0s 0us/step\n",
            "17473536/17464789 [==============================] - 0s 0us/step\n"
          ]
        }
      ]
    },
    {
      "cell_type": "code",
      "source": [
        "print(train_input.shape, test_input.shape)\n",
        "print(len(train_input[0]))\n",
        "print(len(train_input[1]))"
      ],
      "metadata": {
        "colab": {
          "base_uri": "https://localhost:8080/"
        },
        "id": "ez9bDzE4pC9y",
        "outputId": "4de9cb3e-112d-4f4b-f7fc-8e5b421ed06c"
      },
      "execution_count": 2,
      "outputs": [
        {
          "output_type": "stream",
          "name": "stdout",
          "text": [
            "(25000,) (25000,)\n",
            "218\n",
            "189\n",
            "[1, 14, 22, 16, 43, 2, 2, 2, 2, 65, 458, 2, 66, 2, 4, 173, 36, 256, 5, 25, 100, 43, 2, 112, 50, 2, 2, 9, 35, 480, 284, 5, 150, 4, 172, 112, 167, 2, 336, 385, 39, 4, 172, 2, 2, 17, 2, 38, 13, 447, 4, 192, 50, 16, 6, 147, 2, 19, 14, 22, 4, 2, 2, 469, 4, 22, 71, 87, 12, 16, 43, 2, 38, 76, 15, 13, 2, 4, 22, 17, 2, 17, 12, 16, 2, 18, 2, 5, 62, 386, 12, 8, 316, 8, 106, 5, 4, 2, 2, 16, 480, 66, 2, 33, 4, 130, 12, 16, 38, 2, 5, 25, 124, 51, 36, 135, 48, 25, 2, 33, 6, 22, 12, 215, 28, 77, 52, 5, 14, 407, 16, 82, 2, 8, 4, 107, 117, 2, 15, 256, 4, 2, 7, 2, 5, 2, 36, 71, 43, 2, 476, 26, 400, 317, 46, 7, 4, 2, 2, 13, 104, 88, 4, 381, 15, 297, 98, 32, 2, 56, 26, 141, 6, 194, 2, 18, 4, 226, 22, 21, 134, 476, 26, 480, 5, 144, 30, 2, 18, 51, 36, 28, 224, 92, 25, 104, 4, 226, 65, 16, 38, 2, 88, 12, 16, 283, 5, 16, 2, 113, 103, 32, 15, 16, 2, 19, 178, 32]\n"
          ]
        }
      ]
    },
    {
      "cell_type": "code",
      "source": [
        "# 1 : 문장의 시작부분은 보통 토큰을 1로 지정함\n",
        "# 2 : keras 어휘사전(num_words) 500개 단어에 포함되지 않으면 2로 채움\n",
        "# train_input : [리뷰1, 리뷰2, ....]인 넘파이 배열 (리뷰 1 : 파이썬 리스트)\n",
        "print(train_input[0])"
      ],
      "metadata": {
        "colab": {
          "base_uri": "https://localhost:8080/"
        },
        "id": "eUylLGZsvI_h",
        "outputId": "ab11f681-a3a8-4231-a1f7-cbb76f823a8f"
      },
      "execution_count": 5,
      "outputs": [
        {
          "output_type": "stream",
          "name": "stdout",
          "text": [
            "[1, 14, 22, 16, 43, 2, 2, 2, 2, 65, 458, 2, 66, 2, 4, 173, 36, 256, 5, 25, 100, 43, 2, 112, 50, 2, 2, 9, 35, 480, 284, 5, 150, 4, 172, 112, 167, 2, 336, 385, 39, 4, 172, 2, 2, 17, 2, 38, 13, 447, 4, 192, 50, 16, 6, 147, 2, 19, 14, 22, 4, 2, 2, 469, 4, 22, 71, 87, 12, 16, 43, 2, 38, 76, 15, 13, 2, 4, 22, 17, 2, 17, 12, 16, 2, 18, 2, 5, 62, 386, 12, 8, 316, 8, 106, 5, 4, 2, 2, 16, 480, 66, 2, 33, 4, 130, 12, 16, 38, 2, 5, 25, 124, 51, 36, 135, 48, 25, 2, 33, 6, 22, 12, 215, 28, 77, 52, 5, 14, 407, 16, 82, 2, 8, 4, 107, 117, 2, 15, 256, 4, 2, 7, 2, 5, 2, 36, 71, 43, 2, 476, 26, 400, 317, 46, 7, 4, 2, 2, 13, 104, 88, 4, 381, 15, 297, 98, 32, 2, 56, 26, 141, 6, 194, 2, 18, 4, 226, 22, 21, 134, 476, 26, 480, 5, 144, 30, 2, 18, 51, 36, 28, 224, 92, 25, 104, 4, 226, 65, 16, 38, 2, 88, 12, 16, 283, 5, 16, 2, 113, 103, 32, 15, 16, 2, 19, 178, 32]\n"
          ]
        }
      ]
    },
    {
      "cell_type": "code",
      "source": [
        "# 긍정 1, 부정 0\n",
        "print(train_target[:20])"
      ],
      "metadata": {
        "colab": {
          "base_uri": "https://localhost:8080/"
        },
        "id": "S15MFB-AvMVW",
        "outputId": "62364d71-ca9b-4cf9-fab2-7b96202fa60d"
      },
      "execution_count": 6,
      "outputs": [
        {
          "output_type": "stream",
          "name": "stdout",
          "text": [
            "[1 0 0 1 0 0 1 0 1 0 1 0 0 0 0 0 1 1 0 1]\n"
          ]
        }
      ]
    },
    {
      "cell_type": "code",
      "source": [
        "# 훈련세트 준비\n",
        "from sklearn.model_selection import train_test_split\n",
        "\n",
        "train_input, val_input, train_target, val_target = train_test_split(\n",
        "    train_input, train_target, test_size=0.2, random_state=42)"
      ],
      "metadata": {
        "id": "DnR4qOT1wa3u"
      },
      "execution_count": 7,
      "outputs": []
    },
    {
      "cell_type": "code",
      "source": [
        "import numpy as np\n",
        "\n",
        "lengths = np.array([len(x) for x in train_input])\n",
        "print(np.mean(lengths), np.median(lengths))"
      ],
      "metadata": {
        "colab": {
          "base_uri": "https://localhost:8080/"
        },
        "id": "cucu-_ikweO1",
        "outputId": "a7ec0ac8-951c-4fcf-eba5-866b766ddd38"
      },
      "execution_count": 8,
      "outputs": [
        {
          "output_type": "stream",
          "name": "stdout",
          "text": [
            "239.00925 178.0\n"
          ]
        }
      ]
    },
    {
      "cell_type": "code",
      "source": [
        "import matplotlib.pyplot as plt\n",
        "\n",
        "plt.hist(lengths)\n",
        "plt.xlabel('length')\n",
        "plt.ylabel('frequency')\n",
        "plt.show()"
      ],
      "metadata": {
        "colab": {
          "base_uri": "https://localhost:8080/",
          "height": 279
        },
        "id": "OJgypslVwlgN",
        "outputId": "091f4630-4002-4c4f-f5c0-81c4af471dd9"
      },
      "execution_count": 9,
      "outputs": [
        {
          "output_type": "display_data",
          "data": {
            "image/png": "[encoded data removed]",
            "text/plain": [
              "<Figure size 432x288 with 1 Axes>"
            ]
          },
          "metadata": {
            "needs_background": "light"
          }
        }
      ]
    },
    {
      "cell_type": "code",
      "source": [
        "# 시퀀스 패딩 : 적절한 길이의 토큰 설정 필요. 너무 길면 나머지 공간이 텅 빈 공간으로 채워짐. 빈공간을 0으로 채우기. (pad_sequences 활용)\n",
        "# median 값보다 조금 작게. 가능한 텍스트 샘플에 패딩이 너무 많이 포함되지 않도록\n",
        "# 끝에서 시작해서 지정된 길이의 앞 부분을 잘라냄. 뒷부분이 더 의미가 있다고 판단해서. 패딩도 앞부분에 0을 채움.\n",
        "# 토큰을 줄이면 연산속도 빨라짐\n",
        "from tensorflow.keras.preprocessing.sequence import pad_sequences\n",
        "\n",
        "train_seq = pad_sequences(train_input, maxlen=100)\n",
        "print(train_seq.shape)\n",
        "print(train_seq[0])\n",
        "\n",
        "print(train_input[0][-10:])\n",
        "print(train_seq[5])\n",
        "\n",
        "val_seq = pad_sequences(val_input, maxlen=100)"
      ],
      "metadata": {
        "colab": {
          "base_uri": "https://localhost:8080/"
        },
        "id": "JE8WcJPSwtCA",
        "outputId": "d292e0e0-98a4-4c58-cb40-a2e23e6b3644"
      },
      "execution_count": 10,
      "outputs": [
        {
          "output_type": "stream",
          "name": "stdout",
          "text": [
            "(20000, 100)\n",
            "[ 10   4  20   9   2 364 352   5  45   6   2   2  33 269   8   2 142   2\n",
            "   5   2  17  73  17 204   5   2  19  55   2   2  92  66 104  14  20  93\n",
            "  76   2 151  33   4  58  12 188   2 151  12 215  69 224 142  73 237   6\n",
            "   2   7   2   2 188   2 103  14  31  10  10 451   7   2   5   2  80  91\n",
            "   2  30   2  34  14  20 151  50  26 131  49   2  84  46  50  37  80  79\n",
            "   6   2  46   7  14  20  10  10 470 158]\n",
            "[6, 2, 46, 7, 14, 20, 10, 10, 470, 158]\n",
            "[  0   0   0   0   1   2 195  19  49   2   2 190   4   2 352   2 183  10\n",
            "  10  13  82  79   4   2  36  71 269   8   2  25  19  49   7   4   2   2\n",
            "   2   2   2  10  10  48  25  40   2  11   2   2  40   2   2   5   4   2\n",
            "   2  95  14 238  56 129   2  10  10  21   2  94 364 352   2   2  11 190\n",
            "  24 484   2   7  94 205 405  10  10  87   2  34  49   2   7   2   2   2\n",
            "   2   2 290   2  46  48  64  18   4   2]\n"
          ]
        }
      ]
    },
    {
      "cell_type": "code",
      "source": [
        "# 순환신경망 모델 만들기\n",
        "# SimpleRNN : 뉴런의 갯수 지정 - 8. \n",
        "# 순환층이 하나 있는 2진분류 이기 때문에 시그모이드 함수 활용\n",
        "\n",
        "from tensorflow import keras\n",
        "\n",
        "model = keras.Sequential()\n",
        "\n",
        "model.add(keras.layers.SimpleRNN(8, input_shape=(100, 500)))\n",
        "model.add(keras.layers.Dense(1, activation='sigmoid'))\n"
      ],
      "metadata": {
        "id": "FBV9DwKaws_z"
      },
      "execution_count": 11,
      "outputs": []
    },
    {
      "cell_type": "code",
      "source": [
        "# 원-핫 인코딩\n",
        "train_oh = keras.utils.to_categorical(train_seq)\n",
        "\n",
        "print(train_oh.shape)\n",
        "print(train_oh[0][0][:12])\n",
        "print(np.sum(train_oh[0][0]))\n",
        "\n",
        "val_oh = keras.utils.to_categorical(val_seq)"
      ],
      "metadata": {
        "colab": {
          "base_uri": "https://localhost:8080/"
        },
        "id": "BA8IjZuhws9K",
        "outputId": "067c7cba-cbb2-4161-d40b-acacc3437600"
      },
      "execution_count": 12,
      "outputs": [
        {
          "output_type": "stream",
          "name": "stdout",
          "text": [
            "(20000, 100, 500)\n",
            "[0. 0. 0. 0. 0. 0. 0. 0. 0. 0. 1. 0.]\n",
            "1.0\n"
          ]
        }
      ]
    },
    {
      "cell_type": "code",
      "source": [
        "# SimpleRNN 가중치 4072 : 입력토큰 1개가 500개 원핫인코딩으로 변환된 상태, 500개 입력 x 8개 뉴런 + 순환되는 은닉상태(simpleRNN의 뉴런의 갯수) 8개 x 8개의 뉴런에 완전 연결 + 8개 절편(뉴런)\n",
        "# Dense 가중치 9 : 출력 8개 x 덴스층 1개 뉴런 + 1개 절편\n",
        "model.summary()"
      ],
      "metadata": {
        "colab": {
          "base_uri": "https://localhost:8080/"
        },
        "id": "FBomUi5yws6y",
        "outputId": "dc98518a-5c4d-4bfb-efb8-cf3f259bb957"
      },
      "execution_count": 13,
      "outputs": [
        {
          "output_type": "stream",
          "name": "stdout",
          "text": [
            "Model: \"sequential\"\n",
            "_________________________________________________________________\n",
            " Layer (type)                Output Shape              Param #   \n",
            "=================================================================\n",
            " simple_rnn (SimpleRNN)      (None, 8)                 4072      \n",
            "                                                                 \n",
            " dense (Dense)               (None, 1)                 9         \n",
            "                                                                 \n",
            "=================================================================\n",
            "Total params: 4,081\n",
            "Trainable params: 4,081\n",
            "Non-trainable params: 0\n",
            "_________________________________________________________________\n"
          ]
        }
      ]
    },
    {
      "cell_type": "code",
      "source": [
        "# 순환신경망 모델 훈련하기\n",
        "# rmsprop 옵티마이저 사용\n",
        "rmsprop = keras.optimizers.RMSprop(learning_rate=1e-4)\n",
        "model.compile(optimizer=rmsprop, loss='binary_crossentropy', \n",
        "              metrics=['accuracy'])\n",
        "\n",
        "checkpoint_cb = keras.callbacks.ModelCheckpoint('best-simplernn-model.h5', \n",
        "                                                save_best_only=True)\n",
        "early_stopping_cb = keras.callbacks.EarlyStopping(patience=3,\n",
        "                                                  restore_best_weights=True)\n",
        "\n",
        "history = model.fit(train_oh, train_target, epochs=20, batch_size=64,\n",
        "                    validation_data=(val_oh, val_target),\n",
        "                    callbacks=[checkpoint_cb, early_stopping_cb])\n"
      ],
      "metadata": {
        "colab": {
          "base_uri": "https://localhost:8080/"
        },
        "id": "n95WMfmrws3-",
        "outputId": "9569f632-4653-48a2-b137-62d08bf39276"
      },
      "execution_count": 15,
      "outputs": [
        {
          "output_type": "stream",
          "name": "stdout",
          "text": [
            "Epoch 1/20\n",
            "313/313 [==============================] - 9s 26ms/step - loss: 0.4625 - accuracy: 0.7968 - val_loss: 0.4857 - val_accuracy: 0.7836\n",
            "Epoch 2/20\n",
            "313/313 [==============================] - 8s 26ms/step - loss: 0.4575 - accuracy: 0.7988 - val_loss: 0.4791 - val_accuracy: 0.7842\n",
            "Epoch 3/20\n",
            "313/313 [==============================] - 8s 26ms/step - loss: 0.4531 - accuracy: 0.8005 - val_loss: 0.4755 - val_accuracy: 0.7848\n",
            "Epoch 4/20\n",
            "313/313 [==============================] - 8s 26ms/step - loss: 0.4485 - accuracy: 0.8033 - val_loss: 0.4770 - val_accuracy: 0.7814\n",
            "Epoch 5/20\n",
            "313/313 [==============================] - 8s 26ms/step - loss: 0.4446 - accuracy: 0.8056 - val_loss: 0.4713 - val_accuracy: 0.7864\n",
            "Epoch 6/20\n",
            "313/313 [==============================] - 8s 26ms/step - loss: 0.4409 - accuracy: 0.8066 - val_loss: 0.4696 - val_accuracy: 0.7832\n",
            "Epoch 7/20\n",
            "313/313 [==============================] - 8s 26ms/step - loss: 0.4377 - accuracy: 0.8092 - val_loss: 0.4680 - val_accuracy: 0.7854\n",
            "Epoch 8/20\n",
            "313/313 [==============================] - 8s 26ms/step - loss: 0.4348 - accuracy: 0.8102 - val_loss: 0.4654 - val_accuracy: 0.7868\n",
            "Epoch 9/20\n",
            "313/313 [==============================] - 8s 26ms/step - loss: 0.4317 - accuracy: 0.8116 - val_loss: 0.4668 - val_accuracy: 0.7854\n",
            "Epoch 10/20\n",
            "313/313 [==============================] - 8s 26ms/step - loss: 0.4293 - accuracy: 0.8138 - val_loss: 0.4641 - val_accuracy: 0.7882\n",
            "Epoch 11/20\n",
            "313/313 [==============================] - 8s 26ms/step - loss: 0.4269 - accuracy: 0.8142 - val_loss: 0.4690 - val_accuracy: 0.7850\n",
            "Epoch 12/20\n",
            "313/313 [==============================] - 8s 26ms/step - loss: 0.4251 - accuracy: 0.8146 - val_loss: 0.4630 - val_accuracy: 0.7890\n",
            "Epoch 13/20\n",
            "313/313 [==============================] - 8s 26ms/step - loss: 0.4230 - accuracy: 0.8158 - val_loss: 0.4625 - val_accuracy: 0.7930\n",
            "Epoch 14/20\n",
            "313/313 [==============================] - 8s 26ms/step - loss: 0.4208 - accuracy: 0.8160 - val_loss: 0.4627 - val_accuracy: 0.7906\n",
            "Epoch 15/20\n",
            "313/313 [==============================] - 8s 26ms/step - loss: 0.4193 - accuracy: 0.8176 - val_loss: 0.4643 - val_accuracy: 0.7876\n",
            "Epoch 16/20\n",
            "313/313 [==============================] - 8s 26ms/step - loss: 0.4177 - accuracy: 0.8191 - val_loss: 0.4637 - val_accuracy: 0.7900\n"
          ]
        }
      ]
    },
    {
      "cell_type": "code",
      "source": [
        "plt.plot(history.history['loss'])\n",
        "plt.plot(history.history['val_loss'])\n",
        "plt.xlabel('epoch')\n",
        "plt.ylabel('loss')\n",
        "plt.legend(['train', 'val'])\n",
        "plt.show()"
      ],
      "metadata": {
        "colab": {
          "base_uri": "https://localhost:8080/",
          "height": 279
        },
        "id": "klCe6EIiws1c",
        "outputId": "bf0ee581-5009-4d3a-d908-a9d8a97a00a4"
      },
      "execution_count": 16,
      "outputs": [
        {
          "output_type": "display_data",
          "data": {
            "image/png": "[encoded data removed]",
            "text/plain": [
              "<Figure size 432x288 with 1 Axes>"
            ]
          },
          "metadata": {
            "needs_background": "light"
          }
        }
      ]
    },
    {
      "cell_type": "code",
      "source": [
        "# 단어 임베딩 사용하기\n",
        "# 임베딩 :  토큰을 원핫인코딩이 아닌 지정된 실수 벡터로 변환하는 방식\n",
        "# Embedding : 500개 어휘사전, 출력은 16차원(16개 벡터로) - SimpleRNN은 500개 출력이지만, Embedding 통해 16개로 줄일 수 있음 , 타임스텝의 갯수는 100개\n",
        "# 8000 : 500개 입력 x 16개 벡터\n",
        "# 은닉 순환층 가중치 200 : 16개 출력 x 8개 뉴런 + 8개 뉴런의 은닉상태 출력인 8 x  8개 뉴런과 완전 연결 + 8개 절편\n",
        "# 덴스층 가중치 9 : 8 x 1 + 1\n",
        "model2 = keras.Sequential()\n",
        "\n",
        "model2.add(keras.layers.Embedding(500, 16, input_length=100))\n",
        "model2.add(keras.layers.SimpleRNN(8))\n",
        "model2.add(keras.layers.Dense(1, activation='sigmoid'))\n",
        "\n",
        "model2.summary()"
      ],
      "metadata": {
        "colab": {
          "base_uri": "https://localhost:8080/"
        },
        "id": "pcXeC-kIwsyy",
        "outputId": "f5a27116-76cf-452a-b62b-2711bf3a53c8"
      },
      "execution_count": 23,
      "outputs": [
        {
          "output_type": "stream",
          "name": "stdout",
          "text": [
            "Model: \"sequential_2\"\n",
            "_________________________________________________________________\n",
            " Layer (type)                Output Shape              Param #   \n",
            "=================================================================\n",
            " embedding_1 (Embedding)     (None, 100, 16)           8000      \n",
            "                                                                 \n",
            " simple_rnn_2 (SimpleRNN)    (None, 8)                 200       \n",
            "                                                                 \n",
            " dense_2 (Dense)             (None, 1)                 9         \n",
            "                                                                 \n",
            "=================================================================\n",
            "Total params: 8,209\n",
            "Trainable params: 8,209\n",
            "Non-trainable params: 0\n",
            "_________________________________________________________________\n"
          ]
        }
      ]
    },
    {
      "cell_type": "code",
      "source": [
        "rmsprop = keras.optimizers.RMSprop(learning_rate=1e-4)\n",
        "model2.compile(optimizer=rmsprop, loss='binary_crossentropy', \n",
        "               metrics=['accuracy'])\n",
        "\n",
        "checkpoint_cb = keras.callbacks.ModelCheckpoint('best-embedding-model.h5', \n",
        "                                                save_best_only=True)\n",
        "early_stopping_cb = keras.callbacks.EarlyStopping(patience=3,\n",
        "                                                  restore_best_weights=True)\n",
        "\n",
        "history = model2.fit(train_seq, train_target, epochs=100, batch_size=64,\n",
        "                     validation_data=(val_seq, val_target),\n",
        "                     callbacks=[checkpoint_cb, early_stopping_cb])"
      ],
      "metadata": {
        "colab": {
          "base_uri": "https://localhost:8080/"
        },
        "id": "Y3z-NmMUwswA",
        "outputId": "1505df5c-4fed-4959-8ab5-5a7e031062d5"
      },
      "execution_count": 24,
      "outputs": [
        {
          "output_type": "stream",
          "name": "stdout",
          "text": [
            "Epoch 1/100\n",
            "313/313 [==============================] - 6s 17ms/step - loss: 0.6967 - accuracy: 0.5086 - val_loss: 0.6907 - val_accuracy: 0.5320\n",
            "Epoch 2/100\n",
            "313/313 [==============================] - 5s 17ms/step - loss: 0.6794 - accuracy: 0.5753 - val_loss: 0.6722 - val_accuracy: 0.5994\n",
            "Epoch 3/100\n",
            "313/313 [==============================] - 5s 17ms/step - loss: 0.6553 - accuracy: 0.6380 - val_loss: 0.6406 - val_accuracy: 0.6794\n",
            "Epoch 4/100\n",
            "313/313 [==============================] - 5s 16ms/step - loss: 0.6215 - accuracy: 0.7049 - val_loss: 0.6152 - val_accuracy: 0.7158\n",
            "Epoch 5/100\n",
            "313/313 [==============================] - 5s 17ms/step - loss: 0.5972 - accuracy: 0.7339 - val_loss: 0.5934 - val_accuracy: 0.7320\n",
            "Epoch 6/100\n",
            "313/313 [==============================] - 5s 16ms/step - loss: 0.5759 - accuracy: 0.7504 - val_loss: 0.5786 - val_accuracy: 0.7376\n",
            "Epoch 7/100\n",
            "313/313 [==============================] - 5s 16ms/step - loss: 0.5572 - accuracy: 0.7609 - val_loss: 0.5625 - val_accuracy: 0.7434\n",
            "Epoch 8/100\n",
            "313/313 [==============================] - 5s 16ms/step - loss: 0.5409 - accuracy: 0.7692 - val_loss: 0.5455 - val_accuracy: 0.7576\n",
            "Epoch 9/100\n",
            "313/313 [==============================] - 5s 16ms/step - loss: 0.5262 - accuracy: 0.7764 - val_loss: 0.5335 - val_accuracy: 0.7634\n",
            "Epoch 10/100\n",
            "313/313 [==============================] - 5s 16ms/step - loss: 0.5130 - accuracy: 0.7834 - val_loss: 0.5205 - val_accuracy: 0.7726\n",
            "Epoch 11/100\n",
            "313/313 [==============================] - 5s 16ms/step - loss: 0.5001 - accuracy: 0.7904 - val_loss: 0.5102 - val_accuracy: 0.7748\n",
            "Epoch 12/100\n",
            "313/313 [==============================] - 5s 16ms/step - loss: 0.4887 - accuracy: 0.7942 - val_loss: 0.5022 - val_accuracy: 0.7814\n",
            "Epoch 13/100\n",
            "313/313 [==============================] - 5s 16ms/step - loss: 0.4780 - accuracy: 0.7980 - val_loss: 0.4944 - val_accuracy: 0.7814\n",
            "Epoch 14/100\n",
            "313/313 [==============================] - 5s 16ms/step - loss: 0.4682 - accuracy: 0.8048 - val_loss: 0.4882 - val_accuracy: 0.7814\n",
            "Epoch 15/100\n",
            "313/313 [==============================] - 5s 16ms/step - loss: 0.4599 - accuracy: 0.8070 - val_loss: 0.4872 - val_accuracy: 0.7772\n",
            "Epoch 16/100\n",
            "313/313 [==============================] - 5s 16ms/step - loss: 0.4518 - accuracy: 0.8088 - val_loss: 0.4768 - val_accuracy: 0.7838\n",
            "Epoch 17/100\n",
            "313/313 [==============================] - 5s 16ms/step - loss: 0.4448 - accuracy: 0.8110 - val_loss: 0.4703 - val_accuracy: 0.7904\n",
            "Epoch 18/100\n",
            "313/313 [==============================] - 5s 16ms/step - loss: 0.4381 - accuracy: 0.8153 - val_loss: 0.4663 - val_accuracy: 0.7928\n",
            "Epoch 19/100\n",
            "313/313 [==============================] - 5s 16ms/step - loss: 0.4325 - accuracy: 0.8163 - val_loss: 0.4637 - val_accuracy: 0.7918\n",
            "Epoch 20/100\n",
            "313/313 [==============================] - 5s 16ms/step - loss: 0.4272 - accuracy: 0.8189 - val_loss: 0.4617 - val_accuracy: 0.7886\n",
            "Epoch 21/100\n",
            "313/313 [==============================] - 5s 16ms/step - loss: 0.4228 - accuracy: 0.8199 - val_loss: 0.4613 - val_accuracy: 0.7892\n",
            "Epoch 22/100\n",
            "313/313 [==============================] - 5s 17ms/step - loss: 0.4181 - accuracy: 0.8224 - val_loss: 0.4575 - val_accuracy: 0.7918\n",
            "Epoch 23/100\n",
            "313/313 [==============================] - 5s 17ms/step - loss: 0.4150 - accuracy: 0.8238 - val_loss: 0.4563 - val_accuracy: 0.7896\n",
            "Epoch 24/100\n",
            "313/313 [==============================] - 5s 17ms/step - loss: 0.4110 - accuracy: 0.8247 - val_loss: 0.4568 - val_accuracy: 0.7898\n",
            "Epoch 25/100\n",
            "313/313 [==============================] - 5s 17ms/step - loss: 0.4084 - accuracy: 0.8248 - val_loss: 0.4555 - val_accuracy: 0.7916\n",
            "Epoch 26/100\n",
            "313/313 [==============================] - 5s 16ms/step - loss: 0.4055 - accuracy: 0.8270 - val_loss: 0.4607 - val_accuracy: 0.7850\n",
            "Epoch 27/100\n",
            "313/313 [==============================] - 5s 17ms/step - loss: 0.4030 - accuracy: 0.8271 - val_loss: 0.4584 - val_accuracy: 0.7914\n",
            "Epoch 28/100\n",
            "313/313 [==============================] - 5s 17ms/step - loss: 0.4012 - accuracy: 0.8261 - val_loss: 0.4541 - val_accuracy: 0.7918\n",
            "Epoch 29/100\n",
            "313/313 [==============================] - 5s 17ms/step - loss: 0.3995 - accuracy: 0.8285 - val_loss: 0.4568 - val_accuracy: 0.7888\n",
            "Epoch 30/100\n",
            "313/313 [==============================] - 5s 17ms/step - loss: 0.3971 - accuracy: 0.8292 - val_loss: 0.4536 - val_accuracy: 0.7934\n",
            "Epoch 31/100\n",
            "313/313 [==============================] - 5s 17ms/step - loss: 0.3958 - accuracy: 0.8315 - val_loss: 0.4567 - val_accuracy: 0.7918\n",
            "Epoch 32/100\n",
            "313/313 [==============================] - 5s 17ms/step - loss: 0.3934 - accuracy: 0.8317 - val_loss: 0.4550 - val_accuracy: 0.7898\n",
            "Epoch 33/100\n",
            "313/313 [==============================] - 5s 16ms/step - loss: 0.3923 - accuracy: 0.8317 - val_loss: 0.4579 - val_accuracy: 0.7882\n"
          ]
        }
      ]
    },
    {
      "cell_type": "code",
      "source": [
        "plt.plot(history.history['loss'])\n",
        "plt.plot(history.history['val_loss'])\n",
        "plt.xlabel('epoch')\n",
        "plt.ylabel('loss')\n",
        "plt.legend(['train', 'val'])\n",
        "plt.show()"
      ],
      "metadata": {
        "colab": {
          "base_uri": "https://localhost:8080/",
          "height": 279
        },
        "id": "QvS4LHW8wstX",
        "outputId": "ec1e2239-e80f-484c-bdf9-c70d5794a49a"
      },
      "execution_count": 25,
      "outputs": [
        {
          "output_type": "display_data",
          "data": {
            "image/png": "[encoded data removed]",
            "text/plain": [
              "<Figure size 432x288 with 1 Axes>"
            ]
          },
          "metadata": {
            "needs_background": "light"
          }
        }
      ]
    },
    {
      "cell_type": "code",
      "source": [
        ""
      ],
      "metadata": {
        "id": "ZP-tWxFBwsl2"
      },
      "execution_count": null,
      "outputs": []
    }
  ]
}